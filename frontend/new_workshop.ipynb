{
 "cells": [
  {
   "cell_type": "markdown",
   "id": "83fc25bb-dad7-4e93-922c-647fa3dc8cb4",
   "metadata": {},
   "source": [
    "# Data Engineering your stocks"
   ]
  },
  {
   "cell_type": "code",
   "execution_count": null,
   "id": "d2294203-86ba-4878-9756-812370af6afc",
   "metadata": {},
   "outputs": [],
   "source": [
    "%%capture\n",
    "!pip install -r requirements.txt"
   ]
  },
  {
   "cell_type": "code",
   "execution_count": 10,
   "id": "a04ea026-49bb-4193-b5ef-14f4d19dfac5",
   "metadata": {},
   "outputs": [],
   "source": [
    "import os\n",
    "import pandas as pd\n",
    "import numpy as np\n",
    "from utils import get_or_load, get_stocks, get_ticker_symbols, get_performance, get_stock_timeline"
   ]
  },
  {
   "cell_type": "markdown",
   "id": "1125f7bf-e703-4088-bf7e-0e816bc2f1fb",
   "metadata": {},
   "source": [
    "# Task 1: Get stock price data from API"
   ]
  },
  {
   "cell_type": "code",
   "execution_count": 17,
   "id": "c1e5eea6-43d4-49e0-bfc2-c09279f5ae47",
   "metadata": {},
   "outputs": [],
   "source": [
    "def get_stock_prices(stock: str, apikey: str):\n",
    "    api_result = get_stock_API(stock, apikey)\n",
    "    output = transform_api_output(api_result)\n",
    "    output['ticker'] = stock\n",
    "    output['close'] = output['close'].astype(float)\n",
    "    return output"
   ]
  },
  {
   "cell_type": "code",
   "execution_count": 18,
   "id": "d7d48a94-4ba8-430a-8ab5-d9506fe3238b",
   "metadata": {},
   "outputs": [],
   "source": [
    "import requests\n",
    "def get_stock_API(stock: str, apikey: str):\n",
    "    API_URL = \"https://www.alphavantage.co/query\"\n",
    "    data = {\n",
    "        \"function\": \"TIME_SERIES_DAILY\",\n",
    "        \"symbol\": stock,\n",
    "        \"outputsize\": \"compact\",\n",
    "        \"datatype\": \"csv\",\n",
    "        \"apikey\": apikey,\n",
    "    }\n",
    "    response = requests.get(API_URL, data)\n",
    "    if 'Invalid API call' in response.text:\n",
    "        raise KeyError(\"Ticker not valid!\")\n",
    "    while '5 calls per minute' in response.text:\n",
    "        time.sleep(60)\n",
    "        response = requests.get(API_URL, data)\n",
    "    return response.text"
   ]
  },
  {
   "cell_type": "code",
   "execution_count": null,
   "id": "b51c5861-e73e-4d0d-8dd0-a63e87676630",
   "metadata": {},
   "outputs": [],
   "source": [
    "get_stock_API('AAPL', os.environ['API_KEY'])"
   ]
  },
  {
   "cell_type": "markdown",
   "id": "c368e851-34a9-46c2-b42b-ef388987ef52",
   "metadata": {},
   "source": [
    "### Your code"
   ]
  },
  {
   "cell_type": "code",
   "execution_count": 8,
   "id": "d946c719-0205-46e1-9fe5-a188d6c4a05a",
   "metadata": {},
   "outputs": [],
   "source": [
    "def transform_api_output(api_result: str):\n",
    "    # TODO: Transform code here\n",
    "    return pd.DataFrame()"
   ]
  },
  {
   "cell_type": "code",
   "execution_count": null,
   "id": "785c622b-c02a-48c4-80e3-0f33ce738b63",
   "metadata": {},
   "outputs": [],
   "source": []
  },
  {
   "cell_type": "markdown",
   "id": "a4f02358-70a7-4698-8c0b-1bdb6b2ca122",
   "metadata": {},
   "source": [
    "Test your code"
   ]
  },
  {
   "cell_type": "code",
   "execution_count": 11,
   "id": "e160eceb-1045-4f43-913b-879ba7d1804f",
   "metadata": {},
   "outputs": [
    {
     "name": "stdout",
     "output_type": "stream",
     "text": [
      "Check 1: Actual shape: (0, 0), expected shape: (100, 6)\n",
      "Check 2: Actual columns: [], expected columns: ['timestamp', 'open', 'high', 'low', 'close', 'volume']\n"
     ]
    }
   ],
   "source": [
    "result = transform_api_output(get_stock_API('AAPL', os.environ['API_KEY']))\n",
    "print(f\"Check 1: Actual shape: {result.shape}, expected shape: {(100,6)}\")\n",
    "print(f\"Check 2: Actual columns: {list(result.columns)}, expected columns: {['timestamp', 'open', 'high', 'low', 'close', 'volume']}\")"
   ]
  },
  {
   "cell_type": "markdown",
   "id": "59be097a-0446-4f7f-836a-74f7ad4df85d",
   "metadata": {},
   "source": [
    "# Task 2: Buffering Data"
   ]
  },
  {
   "cell_type": "code",
   "execution_count": 15,
   "id": "e322c996-7da1-44b1-9890-ca0603208cb5",
   "metadata": {},
   "outputs": [],
   "source": [
    "def get_or_load(stock: str, apikey: str):\n",
    "    # Define folder, filename and file path\n",
    "    file_name = f'{stock}.csv'\n",
    "    data_dir = 'data/current/'\n",
    "    file_path = f'{data_dir}{file_name}'\n",
    "    \n",
    "    # Check if stock already in data lake\n",
    "    if file_name in os.listdir(data_dir):\n",
    "        data = pd.read_csv(file_path)\n",
    "        return data\n",
    "    \n",
    "    # If stock not found locally, return API call\n",
    "    data = get_stock_prices(stock, apikey)\n",
    "    if 'timestamp' in data.columns:\n",
    "        data.to_csv(file_path)\n",
    "        return data\n",
    "    else:\n",
    "        raise KeyError('Column timestamp not in dataframe!')\n",
    "        \n",
    "    "
   ]
  },
  {
   "cell_type": "code",
   "execution_count": 16,
   "id": "cc3dd5c4-b9d6-412a-bacc-334af2c6eae5",
   "metadata": {},
   "outputs": [
    {
     "ename": "KeyError",
     "evalue": "'close'",
     "output_type": "error",
     "traceback": [
      "\u001b[0;31m---------------------------------------------------------------------------\u001b[0m",
      "\u001b[0;31mKeyError\u001b[0m                                  Traceback (most recent call last)",
      "File \u001b[0;32m/opt/conda/lib/python3.10/site-packages/pandas/core/indexes/base.py:3621\u001b[0m, in \u001b[0;36mIndex.get_loc\u001b[0;34m(self, key, method, tolerance)\u001b[0m\n\u001b[1;32m   3620\u001b[0m \u001b[38;5;28;01mtry\u001b[39;00m:\n\u001b[0;32m-> 3621\u001b[0m     \u001b[38;5;28;01mreturn\u001b[39;00m \u001b[38;5;28;43mself\u001b[39;49m\u001b[38;5;241;43m.\u001b[39;49m\u001b[43m_engine\u001b[49m\u001b[38;5;241;43m.\u001b[39;49m\u001b[43mget_loc\u001b[49m\u001b[43m(\u001b[49m\u001b[43mcasted_key\u001b[49m\u001b[43m)\u001b[49m\n\u001b[1;32m   3622\u001b[0m \u001b[38;5;28;01mexcept\u001b[39;00m \u001b[38;5;167;01mKeyError\u001b[39;00m \u001b[38;5;28;01mas\u001b[39;00m err:\n",
      "File \u001b[0;32m/opt/conda/lib/python3.10/site-packages/pandas/_libs/index.pyx:136\u001b[0m, in \u001b[0;36mpandas._libs.index.IndexEngine.get_loc\u001b[0;34m()\u001b[0m\n",
      "File \u001b[0;32m/opt/conda/lib/python3.10/site-packages/pandas/_libs/index.pyx:163\u001b[0m, in \u001b[0;36mpandas._libs.index.IndexEngine.get_loc\u001b[0;34m()\u001b[0m\n",
      "File \u001b[0;32mpandas/_libs/hashtable_class_helper.pxi:5198\u001b[0m, in \u001b[0;36mpandas._libs.hashtable.PyObjectHashTable.get_item\u001b[0;34m()\u001b[0m\n",
      "File \u001b[0;32mpandas/_libs/hashtable_class_helper.pxi:5206\u001b[0m, in \u001b[0;36mpandas._libs.hashtable.PyObjectHashTable.get_item\u001b[0;34m()\u001b[0m\n",
      "\u001b[0;31mKeyError\u001b[0m: 'close'",
      "\nThe above exception was the direct cause of the following exception:\n",
      "\u001b[0;31mKeyError\u001b[0m                                  Traceback (most recent call last)",
      "Cell \u001b[0;32mIn [16], line 1\u001b[0m\n\u001b[0;32m----> 1\u001b[0m \u001b[43mget_or_load\u001b[49m\u001b[43m(\u001b[49m\u001b[38;5;124;43m'\u001b[39;49m\u001b[38;5;124;43mAAPL\u001b[39;49m\u001b[38;5;124;43m'\u001b[39;49m\u001b[43m,\u001b[49m\u001b[43m \u001b[49m\u001b[43mos\u001b[49m\u001b[38;5;241;43m.\u001b[39;49m\u001b[43menviron\u001b[49m\u001b[43m[\u001b[49m\u001b[38;5;124;43m'\u001b[39;49m\u001b[38;5;124;43mAPI_KEY\u001b[39;49m\u001b[38;5;124;43m'\u001b[39;49m\u001b[43m]\u001b[49m\u001b[43m)\u001b[49m\n",
      "Cell \u001b[0;32mIn [15], line 13\u001b[0m, in \u001b[0;36mget_or_load\u001b[0;34m(stock, apikey)\u001b[0m\n\u001b[1;32m     10\u001b[0m     \u001b[38;5;28;01mreturn\u001b[39;00m data\n\u001b[1;32m     12\u001b[0m \u001b[38;5;66;03m# If stock not found locally, return API call\u001b[39;00m\n\u001b[0;32m---> 13\u001b[0m data \u001b[38;5;241m=\u001b[39m \u001b[43mget_stock_prices\u001b[49m\u001b[43m(\u001b[49m\u001b[43mstock\u001b[49m\u001b[43m,\u001b[49m\u001b[43m \u001b[49m\u001b[43mapikey\u001b[49m\u001b[43m)\u001b[49m\n\u001b[1;32m     14\u001b[0m \u001b[38;5;28;01mif\u001b[39;00m \u001b[38;5;124m'\u001b[39m\u001b[38;5;124mtimestamp\u001b[39m\u001b[38;5;124m'\u001b[39m \u001b[38;5;129;01min\u001b[39;00m data\u001b[38;5;241m.\u001b[39mcolumns:\n\u001b[1;32m     15\u001b[0m     data\u001b[38;5;241m.\u001b[39mto_csv(file_path)\n",
      "Cell \u001b[0;32mIn [14], line 5\u001b[0m, in \u001b[0;36mget_stock_prices\u001b[0;34m(stock, apikey)\u001b[0m\n\u001b[1;32m      3\u001b[0m output \u001b[38;5;241m=\u001b[39m transform_api_output(api_result)\n\u001b[1;32m      4\u001b[0m output[\u001b[38;5;124m'\u001b[39m\u001b[38;5;124mticker\u001b[39m\u001b[38;5;124m'\u001b[39m] \u001b[38;5;241m=\u001b[39m stock\n\u001b[0;32m----> 5\u001b[0m output[\u001b[38;5;124m'\u001b[39m\u001b[38;5;124mclose\u001b[39m\u001b[38;5;124m'\u001b[39m] \u001b[38;5;241m=\u001b[39m \u001b[43moutput\u001b[49m\u001b[43m[\u001b[49m\u001b[38;5;124;43m'\u001b[39;49m\u001b[38;5;124;43mclose\u001b[39;49m\u001b[38;5;124;43m'\u001b[39;49m\u001b[43m]\u001b[49m\u001b[38;5;241m.\u001b[39mastype(\u001b[38;5;28mfloat\u001b[39m)\n\u001b[1;32m      6\u001b[0m \u001b[38;5;28;01mreturn\u001b[39;00m output\n",
      "File \u001b[0;32m/opt/conda/lib/python3.10/site-packages/pandas/core/frame.py:3506\u001b[0m, in \u001b[0;36mDataFrame.__getitem__\u001b[0;34m(self, key)\u001b[0m\n\u001b[1;32m   3504\u001b[0m \u001b[38;5;28;01mif\u001b[39;00m \u001b[38;5;28mself\u001b[39m\u001b[38;5;241m.\u001b[39mcolumns\u001b[38;5;241m.\u001b[39mnlevels \u001b[38;5;241m>\u001b[39m \u001b[38;5;241m1\u001b[39m:\n\u001b[1;32m   3505\u001b[0m     \u001b[38;5;28;01mreturn\u001b[39;00m \u001b[38;5;28mself\u001b[39m\u001b[38;5;241m.\u001b[39m_getitem_multilevel(key)\n\u001b[0;32m-> 3506\u001b[0m indexer \u001b[38;5;241m=\u001b[39m \u001b[38;5;28;43mself\u001b[39;49m\u001b[38;5;241;43m.\u001b[39;49m\u001b[43mcolumns\u001b[49m\u001b[38;5;241;43m.\u001b[39;49m\u001b[43mget_loc\u001b[49m\u001b[43m(\u001b[49m\u001b[43mkey\u001b[49m\u001b[43m)\u001b[49m\n\u001b[1;32m   3507\u001b[0m \u001b[38;5;28;01mif\u001b[39;00m is_integer(indexer):\n\u001b[1;32m   3508\u001b[0m     indexer \u001b[38;5;241m=\u001b[39m [indexer]\n",
      "File \u001b[0;32m/opt/conda/lib/python3.10/site-packages/pandas/core/indexes/base.py:3623\u001b[0m, in \u001b[0;36mIndex.get_loc\u001b[0;34m(self, key, method, tolerance)\u001b[0m\n\u001b[1;32m   3621\u001b[0m     \u001b[38;5;28;01mreturn\u001b[39;00m \u001b[38;5;28mself\u001b[39m\u001b[38;5;241m.\u001b[39m_engine\u001b[38;5;241m.\u001b[39mget_loc(casted_key)\n\u001b[1;32m   3622\u001b[0m \u001b[38;5;28;01mexcept\u001b[39;00m \u001b[38;5;167;01mKeyError\u001b[39;00m \u001b[38;5;28;01mas\u001b[39;00m err:\n\u001b[0;32m-> 3623\u001b[0m     \u001b[38;5;28;01mraise\u001b[39;00m \u001b[38;5;167;01mKeyError\u001b[39;00m(key) \u001b[38;5;28;01mfrom\u001b[39;00m \u001b[38;5;21;01merr\u001b[39;00m\n\u001b[1;32m   3624\u001b[0m \u001b[38;5;28;01mexcept\u001b[39;00m \u001b[38;5;167;01mTypeError\u001b[39;00m:\n\u001b[1;32m   3625\u001b[0m     \u001b[38;5;66;03m# If we have a listlike key, _check_indexing_error will raise\u001b[39;00m\n\u001b[1;32m   3626\u001b[0m     \u001b[38;5;66;03m#  InvalidIndexError. Otherwise we fall through and re-raise\u001b[39;00m\n\u001b[1;32m   3627\u001b[0m     \u001b[38;5;66;03m#  the TypeError.\u001b[39;00m\n\u001b[1;32m   3628\u001b[0m     \u001b[38;5;28mself\u001b[39m\u001b[38;5;241m.\u001b[39m_check_indexing_error(key)\n",
      "\u001b[0;31mKeyError\u001b[0m: 'close'"
     ]
    }
   ],
   "source": [
    "get_or_load('AAPL', os.environ['API_KEY'])"
   ]
  },
  {
   "cell_type": "markdown",
   "id": "9ca57d74-6da3-4971-a879-a517a3bd1cb7",
   "metadata": {},
   "source": [
    "### Your code"
   ]
  },
  {
   "cell_type": "code",
   "execution_count": null,
   "id": "23e1fe05-1441-4393-b3ba-bfdbb8c8c916",
   "metadata": {},
   "outputs": [],
   "source": []
  },
  {
   "cell_type": "code",
   "execution_count": null,
   "id": "78ce7737-a9c7-43e3-8cfa-57a26b3e0d7e",
   "metadata": {},
   "outputs": [],
   "source": []
  },
  {
   "cell_type": "markdown",
   "id": "968a7381-7247-4f63-8117-29b100d974e8",
   "metadata": {},
   "source": [
    "# Task 3: Get and clean historical data"
   ]
  },
  {
   "cell_type": "code",
   "execution_count": null,
   "id": "7165d571-125a-47fe-b098-7e996ac5c98f",
   "metadata": {},
   "outputs": [],
   "source": []
  },
  {
   "cell_type": "code",
   "execution_count": null,
   "id": "8a4b63f8-47ac-49f5-9672-7efe4b7adbf3",
   "metadata": {},
   "outputs": [],
   "source": []
  },
  {
   "cell_type": "markdown",
   "id": "38e03fa9-75ea-4e46-b0eb-29aad2759a13",
   "metadata": {},
   "source": [
    "### Your code"
   ]
  },
  {
   "cell_type": "code",
   "execution_count": null,
   "id": "dec9c583-d7c8-4800-bd5c-4fc033a8ee69",
   "metadata": {},
   "outputs": [],
   "source": []
  },
  {
   "cell_type": "code",
   "execution_count": null,
   "id": "53db8034-2127-4aaa-80a9-fcdc64e9539f",
   "metadata": {},
   "outputs": [],
   "source": []
  },
  {
   "cell_type": "markdown",
   "id": "a6395c6d-59ef-45df-981f-873c506d6985",
   "metadata": {},
   "source": [
    "Test your code"
   ]
  },
  {
   "cell_type": "code",
   "execution_count": null,
   "id": "61a88561-d500-4b21-b3fd-f08ab1e43157",
   "metadata": {},
   "outputs": [],
   "source": [
    "result = transform_hist_data(historical_prices)\n",
    "result_current = get_or_load('AAPL', os.environ['API_KEY'])\n",
    "print(f\"Check 1: Actual close mean: {result.close.mean()}, expected mean: ~{174}\")\n",
    "print(f\"Check 2: Actual date format: {result.timestamp.to_list()[-1]}, expected date format: 1999-11-01\")"
   ]
  },
  {
   "cell_type": "markdown",
   "id": "7964dfed-5f2c-4824-856b-7493a246382c",
   "metadata": {},
   "source": [
    "# Task 4: Get stock prices for multiple stocks"
   ]
  },
  {
   "cell_type": "code",
   "execution_count": null,
   "id": "cb77dac2-d3d1-459a-bd1a-7ada01c9f5a1",
   "metadata": {},
   "outputs": [],
   "source": []
  },
  {
   "cell_type": "code",
   "execution_count": null,
   "id": "e82ec9f7-1132-4af6-a6ce-501ab72168b1",
   "metadata": {},
   "outputs": [],
   "source": []
  },
  {
   "cell_type": "markdown",
   "id": "5d28f0a5-5803-4709-a669-becf3ebcbf38",
   "metadata": {},
   "source": [
    "### Your code"
   ]
  },
  {
   "cell_type": "code",
   "execution_count": null,
   "id": "e08bf17c-b1cc-4d35-bd97-1dbaafac5567",
   "metadata": {},
   "outputs": [],
   "source": []
  },
  {
   "cell_type": "code",
   "execution_count": null,
   "id": "c1024807-b782-4294-ba22-5d03b04f2694",
   "metadata": {},
   "outputs": [],
   "source": []
  },
  {
   "cell_type": "markdown",
   "id": "b1772dae-954c-4ff2-930b-12f1fd090b90",
   "metadata": {},
   "source": [
    "Test your code"
   ]
  },
  {
   "cell_type": "code",
   "execution_count": null,
   "id": "d5ed4d1e-83ee-4d64-be1c-f6179b561577",
   "metadata": {},
   "outputs": [],
   "source": []
  },
  {
   "cell_type": "markdown",
   "id": "732857cb-0e15-4ee8-9990-fb38e4f6dcb0",
   "metadata": {},
   "source": [
    "# Task 5: Feature Engineering\n",
    "## Lets add additonal features such as stock performance"
   ]
  },
  {
   "cell_type": "code",
   "execution_count": null,
   "id": "1659cf8e-951f-4e3d-ab38-366ba195aebc",
   "metadata": {},
   "outputs": [],
   "source": []
  },
  {
   "cell_type": "code",
   "execution_count": null,
   "id": "dacf76eb-41de-446a-ba81-a00c8cdb8090",
   "metadata": {},
   "outputs": [],
   "source": []
  },
  {
   "cell_type": "markdown",
   "id": "3e3f5b12-d08e-445c-be66-fad2247dcc70",
   "metadata": {},
   "source": [
    "### Your code"
   ]
  },
  {
   "cell_type": "code",
   "execution_count": null,
   "id": "00c5aae7-5aa8-4c1c-926b-1f62991dbcb1",
   "metadata": {},
   "outputs": [],
   "source": []
  },
  {
   "cell_type": "code",
   "execution_count": null,
   "id": "50732bfe-ce0c-41cf-a745-d9e208957185",
   "metadata": {},
   "outputs": [],
   "source": []
  },
  {
   "cell_type": "markdown",
   "id": "7e85b4e1-7cd5-487d-8eb1-defb822cbdaf",
   "metadata": {},
   "source": [
    "Test your code"
   ]
  },
  {
   "cell_type": "code",
   "execution_count": null,
   "id": "0146c441-859c-4625-bcd0-2ceb814cddb7",
   "metadata": {},
   "outputs": [],
   "source": []
  }
 ],
 "metadata": {
  "kernelspec": {
   "display_name": "Python 3 (ipykernel)",
   "language": "python",
   "name": "python3"
  },
  "language_info": {
   "codemirror_mode": {
    "name": "ipython",
    "version": 3
   },
   "file_extension": ".py",
   "mimetype": "text/x-python",
   "name": "python",
   "nbconvert_exporter": "python",
   "pygments_lexer": "ipython3",
   "version": "3.10.6"
  }
 },
 "nbformat": 4,
 "nbformat_minor": 5
}
