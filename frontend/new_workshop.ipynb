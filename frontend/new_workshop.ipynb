{
 "cells": [
  {
   "cell_type": "markdown",
   "id": "83fc25bb-dad7-4e93-922c-647fa3dc8cb4",
   "metadata": {},
   "source": [
    "# Data Engineering your stocks"
   ]
  },
  {
   "cell_type": "code",
   "execution_count": null,
   "id": "d2294203-86ba-4878-9756-812370af6afc",
   "metadata": {},
   "outputs": [],
   "source": [
    "%%capture\n",
    "!pip install -r requirements.txt"
   ]
  },
  {
   "cell_type": "code",
   "execution_count": 10,
   "id": "a04ea026-49bb-4193-b5ef-14f4d19dfac5",
   "metadata": {},
   "outputs": [],
   "source": [
    "import os\n",
    "import pandas as pd\n",
    "import numpy as np\n",
    "from utils import get_or_load, get_stocks, get_ticker_symbols, get_performance, get_stock_timeline"
   ]
  },
  {
   "cell_type": "markdown",
   "id": "1125f7bf-e703-4088-bf7e-0e816bc2f1fb",
   "metadata": {},
   "source": [
    "# Task 1: Get stock price data from API"
   ]
  },
  {
   "cell_type": "code",
   "execution_count": 17,
   "id": "c1e5eea6-43d4-49e0-bfc2-c09279f5ae47",
   "metadata": {},
   "outputs": [],
   "source": [
    "def get_stock_prices(stock: str, apikey: str):\n",
    "    api_result = get_stock_API(stock, apikey)\n",
    "    output = transform_api_output(api_result)\n",
    "    output['ticker'] = stock\n",
    "    output['close'] = output['close'].astype(float)\n",
    "    return output"
   ]
  },
  {
   "cell_type": "code",
   "execution_count": 18,
   "id": "d7d48a94-4ba8-430a-8ab5-d9506fe3238b",
   "metadata": {},
   "outputs": [],
   "source": [
    "import requests\n",
    "def get_stock_API(stock: str, apikey: str):\n",
    "    API_URL = \"https://www.alphavantage.co/query\"\n",
    "    data = {\n",
    "        \"function\": \"TIME_SERIES_DAILY\",\n",
    "        \"symbol\": stock,\n",
    "        \"outputsize\": \"compact\",\n",
    "        \"datatype\": \"csv\",\n",
    "        \"apikey\": apikey,\n",
    "    }\n",
    "    response = requests.get(API_URL, data)\n",
    "    if 'Invalid API call' in response.text:\n",
    "        raise KeyError(\"Ticker not valid!\")\n",
    "    while '5 calls per minute' in response.text:\n",
    "        time.sleep(60)\n",
    "        response = requests.get(API_URL, data)\n",
    "    return response.text"
   ]
  },
  {
   "cell_type": "code",
   "execution_count": null,
   "id": "b51c5861-e73e-4d0d-8dd0-a63e87676630",
   "metadata": {},
   "outputs": [],
   "source": [
    "get_stock_API('AAPL', os.environ['API_KEY'])"
   ]
  },
  {
   "cell_type": "markdown",
   "id": "c368e851-34a9-46c2-b42b-ef388987ef52",
   "metadata": {},
   "source": [
    "### Your code"
   ]
  },
  {
   "cell_type": "code",
   "execution_count": 8,
   "id": "d946c719-0205-46e1-9fe5-a188d6c4a05a",
   "metadata": {},
   "outputs": [],
   "source": [
    "def transform_api_output(api_result: str):\n",
    "    # TODO: Transform code here\n",
    "    return pd.DataFrame()"
   ]
  },
  {
   "cell_type": "code",
   "execution_count": null,
   "id": "785c622b-c02a-48c4-80e3-0f33ce738b63",
   "metadata": {},
   "outputs": [],
   "source": []
  },
  {
   "cell_type": "markdown",
   "id": "a4f02358-70a7-4698-8c0b-1bdb6b2ca122",
   "metadata": {},
   "source": [
    "Test your code"
   ]
  },
  {
   "cell_type": "code",
   "execution_count": 11,
   "id": "e160eceb-1045-4f43-913b-879ba7d1804f",
   "metadata": {},
   "outputs": [
    {
     "name": "stdout",
     "output_type": "stream",
     "text": [
      "Check 1: Actual shape: (0, 0), expected shape: (100, 6)\n",
      "Check 2: Actual columns: [], expected columns: ['timestamp', 'open', 'high', 'low', 'close', 'volume']\n"
     ]
    }
   ],
   "source": [
    "result = transform_api_output(get_stock_API('AAPL', os.environ['API_KEY']))\n",
    "print(f\"Check 1: Actual shape: {result.shape}, expected shape: {(100,6)}\")\n",
    "print(f\"Check 2: Actual columns: {list(result.columns)}, expected columns: {['timestamp', 'open', 'high', 'low', 'close', 'volume']}\")"
   ]
  },
  {
   "cell_type": "markdown",
   "id": "59be097a-0446-4f7f-836a-74f7ad4df85d",
   "metadata": {},
   "source": [
    "# Task 2: Buffering Data"
   ]
  },
  {
   "cell_type": "code",
   "execution_count": 15,
   "id": "e322c996-7da1-44b1-9890-ca0603208cb5",
   "metadata": {},
   "outputs": [],
   "source": [
    "def get_or_load(stock: str, apikey: str):\n",
    "    # Define folder, filename and file path\n",
    "    file_name = f'{stock}.csv'\n",
    "    data_dir = 'data/current/'\n",
    "    file_path = f'{data_dir}{file_name}'\n",
    "    \n",
    "    # Check if stock already in data lake\n",
    "    if file_name in os.listdir(data_dir):\n",
    "        data = pd.read_csv(file_path)\n",
    "        return data\n",
    "    \n",
    "    # If stock not found locally, return API call\n",
    "    data = get_stock_prices(stock, apikey)\n",
    "    if 'timestamp' in data.columns:\n",
    "        data.to_csv(file_path)\n",
    "        return data\n",
    "    else:\n",
    "        raise KeyError('Column timestamp not in dataframe!')\n",
    "        \n",
    "    "
   ]
  },
  {
   "cell_type": "code",
   "execution_count": 16,
   "id": "cc3dd5c4-b9d6-412a-bacc-334af2c6eae5",
   "metadata": {},
   "outputs": [
    {
     "ename": "KeyError",
     "evalue": "'close'",
     "output_type": "error",
     "traceback": [
      "\u001b[0;31m---------------------------------------------------------------------------\u001b[0m",
      "\u001b[0;31mKeyError\u001b[0m                                  Traceback (most recent call last)",
      "File \u001b[0;32m/opt/conda/lib/python3.10/site-packages/pandas/core/indexes/base.py:3621\u001b[0m, in \u001b[0;36mIndex.get_loc\u001b[0;34m(self, key, method, tolerance)\u001b[0m\n\u001b[1;32m   3620\u001b[0m \u001b[38;5;28;01mtry\u001b[39;00m:\n\u001b[0;32m-> 3621\u001b[0m     \u001b[38;5;28;01mreturn\u001b[39;00m \u001b[38;5;28;43mself\u001b[39;49m\u001b[38;5;241;43m.\u001b[39;49m\u001b[43m_engine\u001b[49m\u001b[38;5;241;43m.\u001b[39;49m\u001b[43mget_loc\u001b[49m\u001b[43m(\u001b[49m\u001b[43mcasted_key\u001b[49m\u001b[43m)\u001b[49m\n\u001b[1;32m   3622\u001b[0m \u001b[38;5;28;01mexcept\u001b[39;00m \u001b[38;5;167;01mKeyError\u001b[39;00m \u001b[38;5;28;01mas\u001b[39;00m err:\n",
      "File \u001b[0;32m/opt/conda/lib/python3.10/site-packages/pandas/_libs/index.pyx:136\u001b[0m, in \u001b[0;36mpandas._libs.index.IndexEngine.get_loc\u001b[0;34m()\u001b[0m\n",
      "File \u001b[0;32m/opt/conda/lib/python3.10/site-packages/pandas/_libs/index.pyx:163\u001b[0m, in \u001b[0;36mpandas._libs.index.IndexEngine.get_loc\u001b[0;34m()\u001b[0m\n",
      "File \u001b[0;32mpandas/_libs/hashtable_class_helper.pxi:5198\u001b[0m, in \u001b[0;36mpandas._libs.hashtable.PyObjectHashTable.get_item\u001b[0;34m()\u001b[0m\n",
      "File \u001b[0;32mpandas/_libs/hashtable_class_helper.pxi:5206\u001b[0m, in \u001b[0;36mpandas._libs.hashtable.PyObjectHashTable.get_item\u001b[0;34m()\u001b[0m\n",
      "\u001b[0;31mKeyError\u001b[0m: 'close'",
      "\nThe above exception was the direct cause of the following exception:\n",
      "\u001b[0;31mKeyError\u001b[0m                                  Traceback (most recent call last)",
      "Cell \u001b[0;32mIn [16], line 1\u001b[0m\n\u001b[0;32m----> 1\u001b[0m \u001b[43mget_or_load\u001b[49m\u001b[43m(\u001b[49m\u001b[38;5;124;43m'\u001b[39;49m\u001b[38;5;124;43mAAPL\u001b[39;49m\u001b[38;5;124;43m'\u001b[39;49m\u001b[43m,\u001b[49m\u001b[43m \u001b[49m\u001b[43mos\u001b[49m\u001b[38;5;241;43m.\u001b[39;49m\u001b[43menviron\u001b[49m\u001b[43m[\u001b[49m\u001b[38;5;124;43m'\u001b[39;49m\u001b[38;5;124;43mAPI_KEY\u001b[39;49m\u001b[38;5;124;43m'\u001b[39;49m\u001b[43m]\u001b[49m\u001b[43m)\u001b[49m\n",
      "Cell \u001b[0;32mIn [15], line 13\u001b[0m, in \u001b[0;36mget_or_load\u001b[0;34m(stock, apikey)\u001b[0m\n\u001b[1;32m     10\u001b[0m     \u001b[38;5;28;01mreturn\u001b[39;00m data\n\u001b[1;32m     12\u001b[0m \u001b[38;5;66;03m# If stock not found locally, return API call\u001b[39;00m\n\u001b[0;32m---> 13\u001b[0m data \u001b[38;5;241m=\u001b[39m \u001b[43mget_stock_prices\u001b[49m\u001b[43m(\u001b[49m\u001b[43mstock\u001b[49m\u001b[43m,\u001b[49m\u001b[43m \u001b[49m\u001b[43mapikey\u001b[49m\u001b[43m)\u001b[49m\n\u001b[1;32m     14\u001b[0m \u001b[38;5;28;01mif\u001b[39;00m \u001b[38;5;124m'\u001b[39m\u001b[38;5;124mtimestamp\u001b[39m\u001b[38;5;124m'\u001b[39m \u001b[38;5;129;01min\u001b[39;00m data\u001b[38;5;241m.\u001b[39mcolumns:\n\u001b[1;32m     15\u001b[0m     data\u001b[38;5;241m.\u001b[39mto_csv(file_path)\n",
      "Cell \u001b[0;32mIn [14], line 5\u001b[0m, in \u001b[0;36mget_stock_prices\u001b[0;34m(stock, apikey)\u001b[0m\n\u001b[1;32m      3\u001b[0m output \u001b[38;5;241m=\u001b[39m transform_api_output(api_result)\n\u001b[1;32m      4\u001b[0m output[\u001b[38;5;124m'\u001b[39m\u001b[38;5;124mticker\u001b[39m\u001b[38;5;124m'\u001b[39m] \u001b[38;5;241m=\u001b[39m stock\n\u001b[0;32m----> 5\u001b[0m output[\u001b[38;5;124m'\u001b[39m\u001b[38;5;124mclose\u001b[39m\u001b[38;5;124m'\u001b[39m] \u001b[38;5;241m=\u001b[39m \u001b[43moutput\u001b[49m\u001b[43m[\u001b[49m\u001b[38;5;124;43m'\u001b[39;49m\u001b[38;5;124;43mclose\u001b[39;49m\u001b[38;5;124;43m'\u001b[39;49m\u001b[43m]\u001b[49m\u001b[38;5;241m.\u001b[39mastype(\u001b[38;5;28mfloat\u001b[39m)\n\u001b[1;32m      6\u001b[0m \u001b[38;5;28;01mreturn\u001b[39;00m output\n",
      "File \u001b[0;32m/opt/conda/lib/python3.10/site-packages/pandas/core/frame.py:3506\u001b[0m, in \u001b[0;36mDataFrame.__getitem__\u001b[0;34m(self, key)\u001b[0m\n\u001b[1;32m   3504\u001b[0m \u001b[38;5;28;01mif\u001b[39;00m \u001b[38;5;28mself\u001b[39m\u001b[38;5;241m.\u001b[39mcolumns\u001b[38;5;241m.\u001b[39mnlevels \u001b[38;5;241m>\u001b[39m \u001b[38;5;241m1\u001b[39m:\n\u001b[1;32m   3505\u001b[0m     \u001b[38;5;28;01mreturn\u001b[39;00m \u001b[38;5;28mself\u001b[39m\u001b[38;5;241m.\u001b[39m_getitem_multilevel(key)\n\u001b[0;32m-> 3506\u001b[0m indexer \u001b[38;5;241m=\u001b[39m \u001b[38;5;28;43mself\u001b[39;49m\u001b[38;5;241;43m.\u001b[39;49m\u001b[43mcolumns\u001b[49m\u001b[38;5;241;43m.\u001b[39;49m\u001b[43mget_loc\u001b[49m\u001b[43m(\u001b[49m\u001b[43mkey\u001b[49m\u001b[43m)\u001b[49m\n\u001b[1;32m   3507\u001b[0m \u001b[38;5;28;01mif\u001b[39;00m is_integer(indexer):\n\u001b[1;32m   3508\u001b[0m     indexer \u001b[38;5;241m=\u001b[39m [indexer]\n",
      "File \u001b[0;32m/opt/conda/lib/python3.10/site-packages/pandas/core/indexes/base.py:3623\u001b[0m, in \u001b[0;36mIndex.get_loc\u001b[0;34m(self, key, method, tolerance)\u001b[0m\n\u001b[1;32m   3621\u001b[0m     \u001b[38;5;28;01mreturn\u001b[39;00m \u001b[38;5;28mself\u001b[39m\u001b[38;5;241m.\u001b[39m_engine\u001b[38;5;241m.\u001b[39mget_loc(casted_key)\n\u001b[1;32m   3622\u001b[0m \u001b[38;5;28;01mexcept\u001b[39;00m \u001b[38;5;167;01mKeyError\u001b[39;00m \u001b[38;5;28;01mas\u001b[39;00m err:\n\u001b[0;32m-> 3623\u001b[0m     \u001b[38;5;28;01mraise\u001b[39;00m \u001b[38;5;167;01mKeyError\u001b[39;00m(key) \u001b[38;5;28;01mfrom\u001b[39;00m \u001b[38;5;21;01merr\u001b[39;00m\n\u001b[1;32m   3624\u001b[0m \u001b[38;5;28;01mexcept\u001b[39;00m \u001b[38;5;167;01mTypeError\u001b[39;00m:\n\u001b[1;32m   3625\u001b[0m     \u001b[38;5;66;03m# If we have a listlike key, _check_indexing_error will raise\u001b[39;00m\n\u001b[1;32m   3626\u001b[0m     \u001b[38;5;66;03m#  InvalidIndexError. Otherwise we fall through and re-raise\u001b[39;00m\n\u001b[1;32m   3627\u001b[0m     \u001b[38;5;66;03m#  the TypeError.\u001b[39;00m\n\u001b[1;32m   3628\u001b[0m     \u001b[38;5;28mself\u001b[39m\u001b[38;5;241m.\u001b[39m_check_indexing_error(key)\n",
      "\u001b[0;31mKeyError\u001b[0m: 'close'"
     ]
    }
   ],
   "source": [
    "get_or_load('AAPL', os.environ['API_KEY'])"
   ]
  },
  {
   "cell_type": "markdown",
   "id": "9ca57d74-6da3-4971-a879-a517a3bd1cb7",
   "metadata": {},
   "source": [
    "### Your code"
   ]
  },
  {
   "cell_type": "code",
   "execution_count": null,
   "id": "23e1fe05-1441-4393-b3ba-bfdbb8c8c916",
   "metadata": {},
   "outputs": [],
   "source": []
  },
  {
   "cell_type": "code",
   "execution_count": null,
   "id": "78ce7737-a9c7-43e3-8cfa-57a26b3e0d7e",
   "metadata": {},
   "outputs": [],
   "source": []
  },
  {
   "cell_type": "markdown",
   "id": "968a7381-7247-4f63-8117-29b100d974e8",
   "metadata": {},
   "source": [
    "# Task 3: Get and clean historical data"
   ]
  },
  {
   "cell_type": "code",
   "execution_count": 19,
   "id": "7165d571-125a-47fe-b098-7e996ac5c98f",
   "metadata": {},
   "outputs": [],
   "source": [
    "from hints import get_historical_data\n",
    "def get_stock_timeline(stock: str, apikey: str):\n",
    "    current_data = get_or_load(stock, apikey)\n",
    "    \n",
    "    hist_data_raw = get_historical_data(stock, apikey)\n",
    "    # TODO: define transformation function for historical data\n",
    "    hist_data = transform_hist_data(hist_data_raw)\n",
    "    \n",
    "    output = pd.concat([current_data,hist_data])\n",
    "    return output"
   ]
  },
  {
   "cell_type": "code",
   "execution_count": 21,
   "id": "8a4b63f8-47ac-49f5-9672-7efe4b7adbf3",
   "metadata": {},
   "outputs": [
    {
     "data": {
      "text/html": [
       "<div>\n",
       "<style scoped>\n",
       "    .dataframe tbody tr th:only-of-type {\n",
       "        vertical-align: middle;\n",
       "    }\n",
       "\n",
       "    .dataframe tbody tr th {\n",
       "        vertical-align: top;\n",
       "    }\n",
       "\n",
       "    .dataframe thead th {\n",
       "        text-align: right;\n",
       "    }\n",
       "</style>\n",
       "<table border=\"1\" class=\"dataframe\">\n",
       "  <thead>\n",
       "    <tr style=\"text-align: right;\">\n",
       "      <th></th>\n",
       "      <th>timestamp</th>\n",
       "      <th>open</th>\n",
       "      <th>high</th>\n",
       "      <th>low</th>\n",
       "      <th>close</th>\n",
       "      <th>volume</th>\n",
       "      <th>ticker</th>\n",
       "    </tr>\n",
       "  </thead>\n",
       "  <tbody>\n",
       "    <tr>\n",
       "      <th>100</th>\n",
       "      <td>2022/05/31</td>\n",
       "      <td>149.0700</td>\n",
       "      <td>150.6600</td>\n",
       "      <td>146.8400</td>\n",
       "      <td>14884.0</td>\n",
       "      <td>103718416</td>\n",
       "      <td>AAPL</td>\n",
       "    </tr>\n",
       "    <tr>\n",
       "      <th>101</th>\n",
       "      <td>2022/05/27</td>\n",
       "      <td>145.3900</td>\n",
       "      <td>149.6800</td>\n",
       "      <td>145.2600</td>\n",
       "      <td>14964.0</td>\n",
       "      <td>90978503</td>\n",
       "      <td>AAPL</td>\n",
       "    </tr>\n",
       "    <tr>\n",
       "      <th>102</th>\n",
       "      <td>2022/05/26</td>\n",
       "      <td>137.3900</td>\n",
       "      <td>144.3400</td>\n",
       "      <td>137.1400</td>\n",
       "      <td>14378.0</td>\n",
       "      <td>90601548</td>\n",
       "      <td>AAPL</td>\n",
       "    </tr>\n",
       "    <tr>\n",
       "      <th>103</th>\n",
       "      <td>2022/05/25</td>\n",
       "      <td>138.4300</td>\n",
       "      <td>141.7850</td>\n",
       "      <td>138.3400</td>\n",
       "      <td>14052.0</td>\n",
       "      <td>92482696</td>\n",
       "      <td>AAPL</td>\n",
       "    </tr>\n",
       "    <tr>\n",
       "      <th>104</th>\n",
       "      <td>2022/05/24</td>\n",
       "      <td>140.8050</td>\n",
       "      <td>141.9700</td>\n",
       "      <td>137.3300</td>\n",
       "      <td>14036.0</td>\n",
       "      <td>104132746</td>\n",
       "      <td>AAPL</td>\n",
       "    </tr>\n",
       "    <tr>\n",
       "      <th>...</th>\n",
       "      <td>...</td>\n",
       "      <td>...</td>\n",
       "      <td>...</td>\n",
       "      <td>...</td>\n",
       "      <td>...</td>\n",
       "      <td>...</td>\n",
       "      <td>...</td>\n",
       "    </tr>\n",
       "    <tr>\n",
       "      <th>5777</th>\n",
       "      <td>1999/11/05</td>\n",
       "      <td>84.6200</td>\n",
       "      <td>88.3700</td>\n",
       "      <td>84.0000</td>\n",
       "      <td>8831.0</td>\n",
       "      <td>3721500</td>\n",
       "      <td>AAPL</td>\n",
       "    </tr>\n",
       "    <tr>\n",
       "      <th>5778</th>\n",
       "      <td>1999/11/04</td>\n",
       "      <td>82.0600</td>\n",
       "      <td>85.3700</td>\n",
       "      <td>80.6200</td>\n",
       "      <td>8362.0</td>\n",
       "      <td>3384700</td>\n",
       "      <td>AAPL</td>\n",
       "    </tr>\n",
       "    <tr>\n",
       "      <th>5779</th>\n",
       "      <td>1999/11/03</td>\n",
       "      <td>81.6200</td>\n",
       "      <td>83.2500</td>\n",
       "      <td>81.0000</td>\n",
       "      <td>8150.0</td>\n",
       "      <td>2932700</td>\n",
       "      <td>AAPL</td>\n",
       "    </tr>\n",
       "    <tr>\n",
       "      <th>5780</th>\n",
       "      <td>1999/11/02</td>\n",
       "      <td>78.0000</td>\n",
       "      <td>81.6900</td>\n",
       "      <td>77.3100</td>\n",
       "      <td>8025.0</td>\n",
       "      <td>3564600</td>\n",
       "      <td>AAPL</td>\n",
       "    </tr>\n",
       "    <tr>\n",
       "      <th>5781</th>\n",
       "      <td>1999/11/01</td>\n",
       "      <td>80.0000</td>\n",
       "      <td>80.6900</td>\n",
       "      <td>77.3700</td>\n",
       "      <td>7762.0</td>\n",
       "      <td>2487300</td>\n",
       "      <td>AAPL</td>\n",
       "    </tr>\n",
       "  </tbody>\n",
       "</table>\n",
       "<p>5682 rows × 7 columns</p>\n",
       "</div>"
      ],
      "text/plain": [
       "       timestamp      open      high       low    close     volume ticker\n",
       "100   2022/05/31  149.0700  150.6600  146.8400  14884.0  103718416   AAPL\n",
       "101   2022/05/27  145.3900  149.6800  145.2600  14964.0   90978503   AAPL\n",
       "102   2022/05/26  137.3900  144.3400  137.1400  14378.0   90601548   AAPL\n",
       "103   2022/05/25  138.4300  141.7850  138.3400  14052.0   92482696   AAPL\n",
       "104   2022/05/24  140.8050  141.9700  137.3300  14036.0  104132746   AAPL\n",
       "...          ...       ...       ...       ...      ...        ...    ...\n",
       "5777  1999/11/05   84.6200   88.3700   84.0000   8831.0    3721500   AAPL\n",
       "5778  1999/11/04   82.0600   85.3700   80.6200   8362.0    3384700   AAPL\n",
       "5779  1999/11/03   81.6200   83.2500   81.0000   8150.0    2932700   AAPL\n",
       "5780  1999/11/02   78.0000   81.6900   77.3100   8025.0    3564600   AAPL\n",
       "5781  1999/11/01   80.0000   80.6900   77.3700   7762.0    2487300   AAPL\n",
       "\n",
       "[5682 rows x 7 columns]"
      ]
     },
     "execution_count": 21,
     "metadata": {},
     "output_type": "execute_result"
    }
   ],
   "source": [
    "historical_prices = get_historical_data('AAPL', os.environ['API_KEY'])\n",
    "historical_prices"
   ]
  },
  {
   "cell_type": "code",
   "execution_count": 22,
   "id": "46908140-71b3-47d2-a5e6-d4cb100a2cb2",
   "metadata": {},
   "outputs": [
    {
     "ename": "KeyError",
     "evalue": "'close'",
     "output_type": "error",
     "traceback": [
      "\u001b[0;31m---------------------------------------------------------------------------\u001b[0m",
      "\u001b[0;31mKeyError\u001b[0m                                  Traceback (most recent call last)",
      "File \u001b[0;32m/opt/conda/lib/python3.10/site-packages/pandas/core/indexes/base.py:3621\u001b[0m, in \u001b[0;36mIndex.get_loc\u001b[0;34m(self, key, method, tolerance)\u001b[0m\n\u001b[1;32m   3620\u001b[0m \u001b[38;5;28;01mtry\u001b[39;00m:\n\u001b[0;32m-> 3621\u001b[0m     \u001b[38;5;28;01mreturn\u001b[39;00m \u001b[38;5;28;43mself\u001b[39;49m\u001b[38;5;241;43m.\u001b[39;49m\u001b[43m_engine\u001b[49m\u001b[38;5;241;43m.\u001b[39;49m\u001b[43mget_loc\u001b[49m\u001b[43m(\u001b[49m\u001b[43mcasted_key\u001b[49m\u001b[43m)\u001b[49m\n\u001b[1;32m   3622\u001b[0m \u001b[38;5;28;01mexcept\u001b[39;00m \u001b[38;5;167;01mKeyError\u001b[39;00m \u001b[38;5;28;01mas\u001b[39;00m err:\n",
      "File \u001b[0;32m/opt/conda/lib/python3.10/site-packages/pandas/_libs/index.pyx:136\u001b[0m, in \u001b[0;36mpandas._libs.index.IndexEngine.get_loc\u001b[0;34m()\u001b[0m\n",
      "File \u001b[0;32m/opt/conda/lib/python3.10/site-packages/pandas/_libs/index.pyx:163\u001b[0m, in \u001b[0;36mpandas._libs.index.IndexEngine.get_loc\u001b[0;34m()\u001b[0m\n",
      "File \u001b[0;32mpandas/_libs/hashtable_class_helper.pxi:5198\u001b[0m, in \u001b[0;36mpandas._libs.hashtable.PyObjectHashTable.get_item\u001b[0;34m()\u001b[0m\n",
      "File \u001b[0;32mpandas/_libs/hashtable_class_helper.pxi:5206\u001b[0m, in \u001b[0;36mpandas._libs.hashtable.PyObjectHashTable.get_item\u001b[0;34m()\u001b[0m\n",
      "\u001b[0;31mKeyError\u001b[0m: 'close'",
      "\nThe above exception was the direct cause of the following exception:\n",
      "\u001b[0;31mKeyError\u001b[0m                                  Traceback (most recent call last)",
      "Cell \u001b[0;32mIn [22], line 1\u001b[0m\n\u001b[0;32m----> 1\u001b[0m \u001b[43mget_or_load\u001b[49m\u001b[43m(\u001b[49m\u001b[38;5;124;43m'\u001b[39;49m\u001b[38;5;124;43mAAPL\u001b[39;49m\u001b[38;5;124;43m'\u001b[39;49m\u001b[43m,\u001b[49m\u001b[43m \u001b[49m\u001b[43mos\u001b[49m\u001b[38;5;241;43m.\u001b[39;49m\u001b[43menviron\u001b[49m\u001b[43m[\u001b[49m\u001b[38;5;124;43m'\u001b[39;49m\u001b[38;5;124;43mAPI_KEY\u001b[39;49m\u001b[38;5;124;43m'\u001b[39;49m\u001b[43m]\u001b[49m\u001b[43m)\u001b[49m\n",
      "Cell \u001b[0;32mIn [15], line 13\u001b[0m, in \u001b[0;36mget_or_load\u001b[0;34m(stock, apikey)\u001b[0m\n\u001b[1;32m     10\u001b[0m     \u001b[38;5;28;01mreturn\u001b[39;00m data\n\u001b[1;32m     12\u001b[0m \u001b[38;5;66;03m# If stock not found locally, return API call\u001b[39;00m\n\u001b[0;32m---> 13\u001b[0m data \u001b[38;5;241m=\u001b[39m \u001b[43mget_stock_prices\u001b[49m\u001b[43m(\u001b[49m\u001b[43mstock\u001b[49m\u001b[43m,\u001b[49m\u001b[43m \u001b[49m\u001b[43mapikey\u001b[49m\u001b[43m)\u001b[49m\n\u001b[1;32m     14\u001b[0m \u001b[38;5;28;01mif\u001b[39;00m \u001b[38;5;124m'\u001b[39m\u001b[38;5;124mtimestamp\u001b[39m\u001b[38;5;124m'\u001b[39m \u001b[38;5;129;01min\u001b[39;00m data\u001b[38;5;241m.\u001b[39mcolumns:\n\u001b[1;32m     15\u001b[0m     data\u001b[38;5;241m.\u001b[39mto_csv(file_path)\n",
      "Cell \u001b[0;32mIn [17], line 5\u001b[0m, in \u001b[0;36mget_stock_prices\u001b[0;34m(stock, apikey)\u001b[0m\n\u001b[1;32m      3\u001b[0m output \u001b[38;5;241m=\u001b[39m transform_api_output(api_result)\n\u001b[1;32m      4\u001b[0m output[\u001b[38;5;124m'\u001b[39m\u001b[38;5;124mticker\u001b[39m\u001b[38;5;124m'\u001b[39m] \u001b[38;5;241m=\u001b[39m stock\n\u001b[0;32m----> 5\u001b[0m output[\u001b[38;5;124m'\u001b[39m\u001b[38;5;124mclose\u001b[39m\u001b[38;5;124m'\u001b[39m] \u001b[38;5;241m=\u001b[39m \u001b[43moutput\u001b[49m\u001b[43m[\u001b[49m\u001b[38;5;124;43m'\u001b[39;49m\u001b[38;5;124;43mclose\u001b[39;49m\u001b[38;5;124;43m'\u001b[39;49m\u001b[43m]\u001b[49m\u001b[38;5;241m.\u001b[39mastype(\u001b[38;5;28mfloat\u001b[39m)\n\u001b[1;32m      6\u001b[0m \u001b[38;5;28;01mreturn\u001b[39;00m output\n",
      "File \u001b[0;32m/opt/conda/lib/python3.10/site-packages/pandas/core/frame.py:3506\u001b[0m, in \u001b[0;36mDataFrame.__getitem__\u001b[0;34m(self, key)\u001b[0m\n\u001b[1;32m   3504\u001b[0m \u001b[38;5;28;01mif\u001b[39;00m \u001b[38;5;28mself\u001b[39m\u001b[38;5;241m.\u001b[39mcolumns\u001b[38;5;241m.\u001b[39mnlevels \u001b[38;5;241m>\u001b[39m \u001b[38;5;241m1\u001b[39m:\n\u001b[1;32m   3505\u001b[0m     \u001b[38;5;28;01mreturn\u001b[39;00m \u001b[38;5;28mself\u001b[39m\u001b[38;5;241m.\u001b[39m_getitem_multilevel(key)\n\u001b[0;32m-> 3506\u001b[0m indexer \u001b[38;5;241m=\u001b[39m \u001b[38;5;28;43mself\u001b[39;49m\u001b[38;5;241;43m.\u001b[39;49m\u001b[43mcolumns\u001b[49m\u001b[38;5;241;43m.\u001b[39;49m\u001b[43mget_loc\u001b[49m\u001b[43m(\u001b[49m\u001b[43mkey\u001b[49m\u001b[43m)\u001b[49m\n\u001b[1;32m   3507\u001b[0m \u001b[38;5;28;01mif\u001b[39;00m is_integer(indexer):\n\u001b[1;32m   3508\u001b[0m     indexer \u001b[38;5;241m=\u001b[39m [indexer]\n",
      "File \u001b[0;32m/opt/conda/lib/python3.10/site-packages/pandas/core/indexes/base.py:3623\u001b[0m, in \u001b[0;36mIndex.get_loc\u001b[0;34m(self, key, method, tolerance)\u001b[0m\n\u001b[1;32m   3621\u001b[0m     \u001b[38;5;28;01mreturn\u001b[39;00m \u001b[38;5;28mself\u001b[39m\u001b[38;5;241m.\u001b[39m_engine\u001b[38;5;241m.\u001b[39mget_loc(casted_key)\n\u001b[1;32m   3622\u001b[0m \u001b[38;5;28;01mexcept\u001b[39;00m \u001b[38;5;167;01mKeyError\u001b[39;00m \u001b[38;5;28;01mas\u001b[39;00m err:\n\u001b[0;32m-> 3623\u001b[0m     \u001b[38;5;28;01mraise\u001b[39;00m \u001b[38;5;167;01mKeyError\u001b[39;00m(key) \u001b[38;5;28;01mfrom\u001b[39;00m \u001b[38;5;21;01merr\u001b[39;00m\n\u001b[1;32m   3624\u001b[0m \u001b[38;5;28;01mexcept\u001b[39;00m \u001b[38;5;167;01mTypeError\u001b[39;00m:\n\u001b[1;32m   3625\u001b[0m     \u001b[38;5;66;03m# If we have a listlike key, _check_indexing_error will raise\u001b[39;00m\n\u001b[1;32m   3626\u001b[0m     \u001b[38;5;66;03m#  InvalidIndexError. Otherwise we fall through and re-raise\u001b[39;00m\n\u001b[1;32m   3627\u001b[0m     \u001b[38;5;66;03m#  the TypeError.\u001b[39;00m\n\u001b[1;32m   3628\u001b[0m     \u001b[38;5;28mself\u001b[39m\u001b[38;5;241m.\u001b[39m_check_indexing_error(key)\n",
      "\u001b[0;31mKeyError\u001b[0m: 'close'"
     ]
    }
   ],
   "source": [
    "get_or_load('AAPL', os.environ['API_KEY'])"
   ]
  },
  {
   "cell_type": "markdown",
   "id": "38e03fa9-75ea-4e46-b0eb-29aad2759a13",
   "metadata": {},
   "source": [
    "### Your code"
   ]
  },
  {
   "cell_type": "code",
   "execution_count": null,
   "id": "dec9c583-d7c8-4800-bd5c-4fc033a8ee69",
   "metadata": {},
   "outputs": [],
   "source": [
    "def transform_hist_data(df: pd.DataFrame):\n",
    "    output = df\n",
    "\n",
    "    return output"
   ]
  },
  {
   "cell_type": "code",
   "execution_count": null,
   "id": "53db8034-2127-4aaa-80a9-fcdc64e9539f",
   "metadata": {},
   "outputs": [],
   "source": []
  },
  {
   "cell_type": "markdown",
   "id": "a6395c6d-59ef-45df-981f-873c506d6985",
   "metadata": {},
   "source": [
    "Test your code"
   ]
  },
  {
   "cell_type": "code",
   "execution_count": null,
   "id": "61a88561-d500-4b21-b3fd-f08ab1e43157",
   "metadata": {},
   "outputs": [],
   "source": [
    "result = transform_hist_data(historical_prices)\n",
    "result_current = get_or_load('AAPL', os.environ['API_KEY'])\n",
    "print(f\"Check 1: Actual close mean: {result.close.mean()}, expected mean: ~{174}\")\n",
    "print(f\"Check 2: Actual date format: {result.timestamp.to_list()[-1]}, expected date format: 1999-11-01\")"
   ]
  },
  {
   "cell_type": "markdown",
   "id": "7964dfed-5f2c-4824-856b-7493a246382c",
   "metadata": {},
   "source": [
    "# Task 4: Get stock prices for multiple stocks"
   ]
  },
  {
   "cell_type": "code",
   "execution_count": 23,
   "id": "cb77dac2-d3d1-459a-bd1a-7ada01c9f5a1",
   "metadata": {},
   "outputs": [],
   "source": [
    "from pytickersymbols import PyTickerSymbols\n",
    "def get_ticker_symbols():\n",
    "    stock_data = PyTickerSymbols()\n",
    "    stocks = stock_data.get_sp_100_nyc_yahoo_tickers()\n",
    "    return stocks"
   ]
  },
  {
   "cell_type": "code",
   "execution_count": 24,
   "id": "dfb0ec11-5b19-4a7b-810b-4279a4904170",
   "metadata": {},
   "outputs": [
    {
     "data": {
      "text/plain": [
       "['LIN', 'MMM', 'AXP', 'AAPL', 'BA', 'CAT', 'CVX', 'CSCO', 'KO', 'DD']"
      ]
     },
     "execution_count": 24,
     "metadata": {},
     "output_type": "execute_result"
    }
   ],
   "source": [
    "get_ticker_symbols()[:10]"
   ]
  },
  {
   "cell_type": "code",
   "execution_count": null,
   "id": "e82ec9f7-1132-4af6-a6ce-501ab72168b1",
   "metadata": {},
   "outputs": [],
   "source": [
    "def get_stock_timeline(stock: str, apikey: str):\n",
    "    current_data = get_or_load(stock, apikey)\n",
    "    \n",
    "    hist_data_raw = get_historical_data(stock, apikey)\n",
    "    # TODO: define transformation function for historical data\n",
    "    hist_data = transform_hist_data(hist_data_raw)\n",
    "    \n",
    "    output = pd.concat([current_data, hist_data])\n",
    "    return output"
   ]
  },
  {
   "cell_type": "markdown",
   "id": "5d28f0a5-5803-4709-a669-becf3ebcbf38",
   "metadata": {},
   "source": [
    "### Your code"
   ]
  },
  {
   "cell_type": "code",
   "execution_count": 25,
   "id": "e08bf17c-b1cc-4d35-bd97-1dbaafac5567",
   "metadata": {},
   "outputs": [],
   "source": [
    "from typing import List \n",
    "\n",
    "def get_stocks(stocks: List[str], apikey: str) -> pd.DataFrame:\n",
    "    # TODO: Expand the output to multiple stocks, use get_stock_timeline\n",
    "    return pd.DataFrame()"
   ]
  },
  {
   "cell_type": "code",
   "execution_count": 26,
   "id": "c1024807-b782-4294-ba22-5d03b04f2694",
   "metadata": {},
   "outputs": [
    {
     "name": "stdout",
     "output_type": "stream",
     "text": [
      "Check 1: Actual stocks [], expected stocks: ['AAPL', 'TSLA']\n"
     ]
    }
   ],
   "source": []
  },
  {
   "cell_type": "markdown",
   "id": "b1772dae-954c-4ff2-930b-12f1fd090b90",
   "metadata": {},
   "source": [
    "Test your code"
   ]
  },
  {
   "cell_type": "code",
   "execution_count": null,
   "id": "d5ed4d1e-83ee-4d64-be1c-f6179b561577",
   "metadata": {},
   "outputs": [],
   "source": [
    "result = get_stocks(['AAPL', 'TSLA'], os.environ['API_KEY'])\n",
    "if 'ticker' in result.columns:\n",
    "    ticker = list(result.ticker.unique())\n",
    "else:\n",
    "    ticker = []\n",
    "print(f\"Check 1: Actual stocks {ticker}, expected stocks: {['AAPL', 'TSLA']}\")"
   ]
  },
  {
   "cell_type": "markdown",
   "id": "732857cb-0e15-4ee8-9990-fb38e4f6dcb0",
   "metadata": {},
   "source": [
    "# Task 5: Feature Engineering\n",
    "## Lets add additonal features such as stock performance"
   ]
  },
  {
   "cell_type": "code",
   "execution_count": null,
   "id": "1659cf8e-951f-4e3d-ab38-366ba195aebc",
   "metadata": {},
   "outputs": [],
   "source": [
    "get_or_load('AAPL', os.environ['API_KEY'])"
   ]
  },
  {
   "cell_type": "markdown",
   "id": "3e3f5b12-d08e-445c-be66-fad2247dcc70",
   "metadata": {},
   "source": [
    "### Your code"
   ]
  },
  {
   "cell_type": "code",
   "execution_count": null,
   "id": "00c5aae7-5aa8-4c1c-926b-1f62991dbcb1",
   "metadata": {},
   "outputs": [],
   "source": [
    "def get_performance(df: pd.DataFrame):\n",
    "    return df"
   ]
  },
  {
   "cell_type": "code",
   "execution_count": null,
   "id": "50732bfe-ce0c-41cf-a745-d9e208957185",
   "metadata": {},
   "outputs": [],
   "source": []
  },
  {
   "cell_type": "markdown",
   "id": "7e85b4e1-7cd5-487d-8eb1-defb822cbdaf",
   "metadata": {},
   "source": [
    "Test your code"
   ]
  },
  {
   "cell_type": "code",
   "execution_count": null,
   "id": "0146c441-859c-4625-bcd0-2ceb814cddb7",
   "metadata": {},
   "outputs": [],
   "source": [
    "result = get_performance(df)\n",
    "print(f\"Check 2: Actual columns: {list(result.columns)}, expected columns: {['timestamp', 'open', 'high', 'low', 'close', 'volume', 'ticker', 'performance']}\")"
   ]
  }
 ],
 "metadata": {
  "kernelspec": {
   "display_name": "Python 3 (ipykernel)",
   "language": "python",
   "name": "python3"
  },
  "language_info": {
   "codemirror_mode": {
    "name": "ipython",
    "version": 3
   },
   "file_extension": ".py",
   "mimetype": "text/x-python",
   "name": "python",
   "nbconvert_exporter": "python",
   "pygments_lexer": "ipython3",
   "version": "3.10.6"
  }
 },
 "nbformat": 4,
 "nbformat_minor": 5
}
