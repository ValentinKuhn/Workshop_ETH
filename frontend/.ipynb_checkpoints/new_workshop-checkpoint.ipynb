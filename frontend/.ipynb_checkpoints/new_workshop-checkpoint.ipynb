{
 "cells": [
  {
   "cell_type": "markdown",
   "id": "944828f3-913a-43ce-93e2-00f3ee78e36d",
   "metadata": {},
   "source": [
    "# Workshop notebook"
   ]
  },
  {
   "cell_type": "markdown",
   "id": "1125f7bf-e703-4088-bf7e-0e816bc2f1fb",
   "metadata": {},
   "source": [
    "# Task 1: Get stock price data from API"
   ]
  },
  {
   "cell_type": "code",
   "execution_count": null,
   "id": "d7d48a94-4ba8-430a-8ab5-d9506fe3238b",
   "metadata": {},
   "outputs": [],
   "source": []
  },
  {
   "cell_type": "code",
   "execution_count": null,
   "id": "b51c5861-e73e-4d0d-8dd0-a63e87676630",
   "metadata": {},
   "outputs": [],
   "source": []
  },
  {
   "cell_type": "markdown",
   "id": "c368e851-34a9-46c2-b42b-ef388987ef52",
   "metadata": {},
   "source": [
    "### Your code"
   ]
  },
  {
   "cell_type": "code",
   "execution_count": null,
   "id": "d946c719-0205-46e1-9fe5-a188d6c4a05a",
   "metadata": {},
   "outputs": [],
   "source": []
  },
  {
   "cell_type": "code",
   "execution_count": null,
   "id": "785c622b-c02a-48c4-80e3-0f33ce738b63",
   "metadata": {},
   "outputs": [],
   "source": []
  },
  {
   "cell_type": "markdown",
   "id": "a4f02358-70a7-4698-8c0b-1bdb6b2ca122",
   "metadata": {},
   "source": [
    "Test your code"
   ]
  },
  {
   "cell_type": "code",
   "execution_count": null,
   "id": "e160eceb-1045-4f43-913b-879ba7d1804f",
   "metadata": {},
   "outputs": [],
   "source": []
  },
  {
   "cell_type": "markdown",
   "id": "59be097a-0446-4f7f-836a-74f7ad4df85d",
   "metadata": {},
   "source": [
    "# Task 2: Buffering Data"
   ]
  },
  {
   "cell_type": "code",
   "execution_count": null,
   "id": "e322c996-7da1-44b1-9890-ca0603208cb5",
   "metadata": {},
   "outputs": [],
   "source": []
  },
  {
   "cell_type": "code",
   "execution_count": null,
   "id": "cc3dd5c4-b9d6-412a-bacc-334af2c6eae5",
   "metadata": {},
   "outputs": [],
   "source": []
  },
  {
   "cell_type": "markdown",
   "id": "9ca57d74-6da3-4971-a879-a517a3bd1cb7",
   "metadata": {},
   "source": [
    "### Your code"
   ]
  },
  {
   "cell_type": "code",
   "execution_count": null,
   "id": "23e1fe05-1441-4393-b3ba-bfdbb8c8c916",
   "metadata": {},
   "outputs": [],
   "source": []
  },
  {
   "cell_type": "code",
   "execution_count": null,
   "id": "78ce7737-a9c7-43e3-8cfa-57a26b3e0d7e",
   "metadata": {},
   "outputs": [],
   "source": []
  },
  {
   "cell_type": "markdown",
   "id": "22e9ada0-68d8-4d55-9b39-18559f8cba23",
   "metadata": {},
   "source": [
    "Test your code"
   ]
  },
  {
   "cell_type": "code",
   "execution_count": null,
   "id": "d9131300-6468-43ac-bcad-2315f5bfc056",
   "metadata": {},
   "outputs": [],
   "source": []
  },
  {
   "cell_type": "markdown",
   "id": "968a7381-7247-4f63-8117-29b100d974e8",
   "metadata": {},
   "source": [
    "# Task 3: Get historical data"
   ]
  },
  {
   "cell_type": "code",
   "execution_count": null,
   "id": "7165d571-125a-47fe-b098-7e996ac5c98f",
   "metadata": {},
   "outputs": [],
   "source": []
  },
  {
   "cell_type": "code",
   "execution_count": null,
   "id": "8a4b63f8-47ac-49f5-9672-7efe4b7adbf3",
   "metadata": {},
   "outputs": [],
   "source": []
  },
  {
   "cell_type": "markdown",
   "id": "38e03fa9-75ea-4e46-b0eb-29aad2759a13",
   "metadata": {},
   "source": [
    "### Your code"
   ]
  },
  {
   "cell_type": "code",
   "execution_count": null,
   "id": "dec9c583-d7c8-4800-bd5c-4fc033a8ee69",
   "metadata": {},
   "outputs": [],
   "source": []
  },
  {
   "cell_type": "code",
   "execution_count": null,
   "id": "53db8034-2127-4aaa-80a9-fcdc64e9539f",
   "metadata": {},
   "outputs": [],
   "source": []
  },
  {
   "cell_type": "markdown",
   "id": "a6395c6d-59ef-45df-981f-873c506d6985",
   "metadata": {},
   "source": [
    "Test your code"
   ]
  },
  {
   "cell_type": "code",
   "execution_count": null,
   "id": "61a88561-d500-4b21-b3fd-f08ab1e43157",
   "metadata": {},
   "outputs": [],
   "source": []
  },
  {
   "cell_type": "markdown",
   "id": "7964dfed-5f2c-4824-856b-7493a246382c",
   "metadata": {},
   "source": [
    "# Task 4: Get stock prices for multiple stocks"
   ]
  },
  {
   "cell_type": "code",
   "execution_count": null,
   "id": "cb77dac2-d3d1-459a-bd1a-7ada01c9f5a1",
   "metadata": {},
   "outputs": [],
   "source": []
  },
  {
   "cell_type": "code",
   "execution_count": null,
   "id": "e82ec9f7-1132-4af6-a6ce-501ab72168b1",
   "metadata": {},
   "outputs": [],
   "source": []
  },
  {
   "cell_type": "markdown",
   "id": "5d28f0a5-5803-4709-a669-becf3ebcbf38",
   "metadata": {},
   "source": [
    "### Your code"
   ]
  },
  {
   "cell_type": "code",
   "execution_count": null,
   "id": "e08bf17c-b1cc-4d35-bd97-1dbaafac5567",
   "metadata": {},
   "outputs": [],
   "source": []
  },
  {
   "cell_type": "code",
   "execution_count": null,
   "id": "c1024807-b782-4294-ba22-5d03b04f2694",
   "metadata": {},
   "outputs": [],
   "source": []
  },
  {
   "cell_type": "markdown",
   "id": "b1772dae-954c-4ff2-930b-12f1fd090b90",
   "metadata": {},
   "source": [
    "Test your code"
   ]
  },
  {
   "cell_type": "code",
   "execution_count": null,
   "id": "d5ed4d1e-83ee-4d64-be1c-f6179b561577",
   "metadata": {},
   "outputs": [],
   "source": []
  },
  {
   "cell_type": "markdown",
   "id": "732857cb-0e15-4ee8-9990-fb38e4f6dcb0",
   "metadata": {},
   "source": [
    "# Task 5: Feature Engineering\n",
    "## Lets add additonal features such as stock performance"
   ]
  },
  {
   "cell_type": "code",
   "execution_count": null,
   "id": "1659cf8e-951f-4e3d-ab38-366ba195aebc",
   "metadata": {},
   "outputs": [],
   "source": []
  },
  {
   "cell_type": "code",
   "execution_count": null,
   "id": "dacf76eb-41de-446a-ba81-a00c8cdb8090",
   "metadata": {},
   "outputs": [],
   "source": []
  },
  {
   "cell_type": "markdown",
   "id": "3e3f5b12-d08e-445c-be66-fad2247dcc70",
   "metadata": {},
   "source": [
    "### Your code"
   ]
  },
  {
   "cell_type": "code",
   "execution_count": null,
   "id": "00c5aae7-5aa8-4c1c-926b-1f62991dbcb1",
   "metadata": {},
   "outputs": [],
   "source": []
  },
  {
   "cell_type": "code",
   "execution_count": null,
   "id": "50732bfe-ce0c-41cf-a745-d9e208957185",
   "metadata": {},
   "outputs": [],
   "source": []
  },
  {
   "cell_type": "markdown",
   "id": "7e85b4e1-7cd5-487d-8eb1-defb822cbdaf",
   "metadata": {},
   "source": [
    "Test your code"
   ]
  },
  {
   "cell_type": "code",
   "execution_count": null,
   "id": "0146c441-859c-4625-bcd0-2ceb814cddb7",
   "metadata": {},
   "outputs": [],
   "source": []
  }
 ],
 "metadata": {
  "kernelspec": {
   "display_name": "Python 3 (ipykernel)",
   "language": "python",
   "name": "python3"
  },
  "language_info": {
   "codemirror_mode": {
    "name": "ipython",
    "version": 3
   },
   "file_extension": ".py",
   "mimetype": "text/x-python",
   "name": "python",
   "nbconvert_exporter": "python",
   "pygments_lexer": "ipython3",
   "version": "3.10.6"
  }
 },
 "nbformat": 4,
 "nbformat_minor": 5
}
