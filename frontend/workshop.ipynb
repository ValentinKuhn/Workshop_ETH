{
 "cells": [
  {
   "cell_type": "markdown",
   "id": "83fc25bb-dad7-4e93-922c-647fa3dc8cb4",
   "metadata": {},
   "source": [
    "# Data Engineering your stocks"
   ]
  },
  {
   "cell_type": "code",
   "execution_count": null,
   "id": "a04ea026-49bb-4193-b5ef-14f4d19dfac5",
   "metadata": {},
   "outputs": [],
   "source": [
    "import os\n",
    "import pandas as pd\n",
    "import numpy as np\n",
    "import time"
   ]
  },
  {
   "cell_type": "markdown",
   "id": "1125f7bf-e703-4088-bf7e-0e816bc2f1fb",
   "metadata": {},
   "source": [
    "# Task 1: Get stock price data from API"
   ]
  },
  {
   "cell_type": "code",
   "execution_count": null,
   "id": "c1e5eea6-43d4-49e0-bfc2-c09279f5ae47",
   "metadata": {},
   "outputs": [],
   "source": [
    "def get_stock_prices(stock: str, apikey: str):\n",
    "    api_result = get_stock_API(stock, apikey)\n",
    "    output = transform_api_output(api_result)\n",
    "    output['ticker'] = stock\n",
    "    output['close'] = output['close'].astype(float)\n",
    "    return output"
   ]
  },
  {
   "cell_type": "code",
   "execution_count": null,
   "id": "d7d48a94-4ba8-430a-8ab5-d9506fe3238b",
   "metadata": {},
   "outputs": [],
   "source": [
    "import requests\n",
    "def get_stock_API(stock: str, apikey: str):\n",
    "    API_URL = \"https://www.alphavantage.co/query\"\n",
    "    data = {\n",
    "        \"function\": \"TIME_SERIES_DAILY\",\n",
    "        \"symbol\": stock,\n",
    "        \"outputsize\": \"compact\",\n",
    "        \"datatype\": \"csv\",\n",
    "        \"apikey\": apikey,\n",
    "    }\n",
    "    response = requests.get(API_URL, data)\n",
    "    if 'Invalid API call' in response.text:\n",
    "        raise KeyError(\"Ticker not valid!\")\n",
    "    while '5 calls per minute' in response.text:\n",
    "        time.sleep(60)\n",
    "        response = requests.get(API_URL, data)\n",
    "    return response.text"
   ]
  },
  {
   "cell_type": "code",
   "execution_count": null,
   "id": "b51c5861-e73e-4d0d-8dd0-a63e87676630",
   "metadata": {},
   "outputs": [],
   "source": [
    "api_result = get_stock_API('AAPL', os.environ['API_KEY'])\n",
    "api_result"
   ]
  },
  {
   "cell_type": "markdown",
   "id": "c368e851-34a9-46c2-b42b-ef388987ef52",
   "metadata": {},
   "source": [
    "### Your code"
   ]
  },
  {
   "cell_type": "code",
   "execution_count": null,
   "id": "d946c719-0205-46e1-9fe5-a188d6c4a05a",
   "metadata": {},
   "outputs": [],
   "source": [
    "def transform_api_output(api_result: str):\n",
    "    return pd.DataFrame()"
   ]
  },
  {
   "cell_type": "code",
   "execution_count": null,
   "id": "785c622b-c02a-48c4-80e3-0f33ce738b63",
   "metadata": {},
   "outputs": [],
   "source": []
  },
  {
   "cell_type": "markdown",
   "id": "a4f02358-70a7-4698-8c0b-1bdb6b2ca122",
   "metadata": {},
   "source": [
    "Test your code"
   ]
  },
  {
   "cell_type": "code",
   "execution_count": null,
   "id": "e160eceb-1045-4f43-913b-879ba7d1804f",
   "metadata": {
    "tags": []
   },
   "outputs": [],
   "source": [
    "result = transform_api_output(api_result)\n",
    "print(f\"Check 1: Actual shape: {result.shape}, expected shape: {(100,6)}\")\n",
    "print(f\"Check 2: Actual columns: {list(result.columns)}, expected columns: {['timestamp', 'open', 'high', 'low', 'close', 'volume']}\")"
   ]
  },
  {
   "cell_type": "markdown",
   "id": "cdafa0ae-8ffd-4423-bd2c-86d548885c64",
   "metadata": {},
   "source": [
    "Check [Dashboard](http://127.0.0.1:8505)"
   ]
  },
  {
   "cell_type": "markdown",
   "id": "59be097a-0446-4f7f-836a-74f7ad4df85d",
   "metadata": {},
   "source": [
    "# Task 2: Buffering Data"
   ]
  },
  {
   "cell_type": "code",
   "execution_count": null,
   "id": "e322c996-7da1-44b1-9890-ca0603208cb5",
   "metadata": {},
   "outputs": [],
   "source": [
    "def get_or_load(stock: str, apikey: str):\n",
    "    # Define folder, filename and file path\n",
    "    file_name = f'{stock}.csv'\n",
    "    data_dir = 'data/current/'\n",
    "    file_path = f'{data_dir}{file_name}'\n",
    "    \n",
    "    # Check if stock already in data lake\n",
    "    if file_name in os.listdir(data_dir):\n",
    "        data = pd.read_csv(file_path, index_col=0)\n",
    "        return data\n",
    "    \n",
    "    # If stock not found locally, return API call\n",
    "    data = get_stock_prices(stock, apikey)\n",
    "    if 'timestamp' in data.columns:\n",
    "        data.to_csv(file_path)\n",
    "        return data\n",
    "    else:\n",
    "        raise KeyError('Column timestamp not in dataframe!')\n",
    "        \n",
    "    "
   ]
  },
  {
   "cell_type": "code",
   "execution_count": null,
   "id": "cc3dd5c4-b9d6-412a-bacc-334af2c6eae5",
   "metadata": {},
   "outputs": [],
   "source": [
    "get_or_load('AAPL', os.environ['API_KEY'])"
   ]
  },
  {
   "cell_type": "markdown",
   "id": "9ca57d74-6da3-4971-a879-a517a3bd1cb7",
   "metadata": {},
   "source": [
    "### Your code"
   ]
  },
  {
   "cell_type": "code",
   "execution_count": null,
   "id": "23e1fe05-1441-4393-b3ba-bfdbb8c8c916",
   "metadata": {},
   "outputs": [],
   "source": []
  },
  {
   "cell_type": "code",
   "execution_count": null,
   "id": "78ce7737-a9c7-43e3-8cfa-57a26b3e0d7e",
   "metadata": {},
   "outputs": [],
   "source": []
  },
  {
   "cell_type": "markdown",
   "id": "968a7381-7247-4f63-8117-29b100d974e8",
   "metadata": {},
   "source": [
    "# Task 3: Get and clean historical data"
   ]
  },
  {
   "cell_type": "code",
   "execution_count": null,
   "id": "7165d571-125a-47fe-b098-7e996ac5c98f",
   "metadata": {},
   "outputs": [],
   "source": [
    "from utils import get_historical_data\n",
    "def get_stock_timeline(stock: str, apikey: str):\n",
    "    current_data = get_or_load(stock, apikey)\n",
    "    \n",
    "    hist_data_raw = get_historical_data(stock, apikey)\n",
    "    # TODO: define transformation function for historical data\n",
    "    hist_data = transform_hist_data(hist_data_raw)\n",
    "    \n",
    "    output = pd.concat([current_data,hist_data])\n",
    "    output['close'] = output['close'].astype(float)\n",
    "    return output"
   ]
  },
  {
   "cell_type": "code",
   "execution_count": null,
   "id": "8a4b63f8-47ac-49f5-9672-7efe4b7adbf3",
   "metadata": {},
   "outputs": [],
   "source": [
    "historical_prices = get_historical_data('AAPL', os.environ['API_KEY'])\n",
    "historical_prices"
   ]
  },
  {
   "cell_type": "code",
   "execution_count": null,
   "id": "46908140-71b3-47d2-a5e6-d4cb100a2cb2",
   "metadata": {},
   "outputs": [],
   "source": [
    "get_or_load('AAPL', os.environ['API_KEY'])"
   ]
  },
  {
   "cell_type": "markdown",
   "id": "38e03fa9-75ea-4e46-b0eb-29aad2759a13",
   "metadata": {},
   "source": [
    "### Your code"
   ]
  },
  {
   "cell_type": "code",
   "execution_count": null,
   "id": "dec9c583-d7c8-4800-bd5c-4fc033a8ee69",
   "metadata": {},
   "outputs": [],
   "source": [
    "def transform_hist_data(df: pd.DataFrame):\n",
    "    output = df\n",
    "    return output"
   ]
  },
  {
   "cell_type": "code",
   "execution_count": null,
   "id": "53db8034-2127-4aaa-80a9-fcdc64e9539f",
   "metadata": {},
   "outputs": [],
   "source": []
  },
  {
   "cell_type": "markdown",
   "id": "a6395c6d-59ef-45df-981f-873c506d6985",
   "metadata": {},
   "source": [
    "Test your code"
   ]
  },
  {
   "cell_type": "code",
   "execution_count": null,
   "id": "61a88561-d500-4b21-b3fd-f08ab1e43157",
   "metadata": {},
   "outputs": [],
   "source": [
    "result = transform_hist_data(historical_prices)\n",
    "result_current = get_or_load('AAPL', os.environ['API_KEY'])\n",
    "print(f\"Check 1: Actual close mean: {result.close.mean()}, expected mean: ~{174}\")\n",
    "print(f\"Check 2: Actual date format: {result.timestamp.to_list()[-1]}, expected date format: 1999-11-01\")"
   ]
  },
  {
   "cell_type": "markdown",
   "id": "59fa0635-8139-42df-83e5-378ba4728dfd",
   "metadata": {},
   "source": [
    "Check [Dashboard](http://127.0.0.1:8505)"
   ]
  },
  {
   "cell_type": "markdown",
   "id": "7964dfed-5f2c-4824-856b-7493a246382c",
   "metadata": {},
   "source": [
    "# Task 4: Get stock prices for multiple stocks"
   ]
  },
  {
   "cell_type": "code",
   "execution_count": null,
   "id": "cb77dac2-d3d1-459a-bd1a-7ada01c9f5a1",
   "metadata": {},
   "outputs": [],
   "source": [
    "from pytickersymbols import PyTickerSymbols\n",
    "def get_ticker_symbols():\n",
    "    stock_data = PyTickerSymbols()\n",
    "    stocks = stock_data.get_sp_100_nyc_yahoo_tickers()\n",
    "    return stocks"
   ]
  },
  {
   "cell_type": "code",
   "execution_count": null,
   "id": "dfb0ec11-5b19-4a7b-810b-4279a4904170",
   "metadata": {},
   "outputs": [],
   "source": [
    "get_ticker_symbols()[:10]"
   ]
  },
  {
   "cell_type": "code",
   "execution_count": null,
   "id": "e82ec9f7-1132-4af6-a6ce-501ab72168b1",
   "metadata": {},
   "outputs": [],
   "source": [
    "def get_stock_timeline(stock: str, apikey: str):\n",
    "    current_data = get_or_load(stock, apikey)\n",
    "    \n",
    "    hist_data_raw = get_historical_data(stock, apikey)\n",
    "    # TODO: define transformation function for historical data\n",
    "    hist_data = transform_hist_data(hist_data_raw)\n",
    "    \n",
    "    output = pd.concat([current_data, hist_data])\n",
    "    return output"
   ]
  },
  {
   "cell_type": "markdown",
   "id": "5d28f0a5-5803-4709-a669-becf3ebcbf38",
   "metadata": {},
   "source": [
    "### Your code"
   ]
  },
  {
   "cell_type": "code",
   "execution_count": null,
   "id": "e08bf17c-b1cc-4d35-bd97-1dbaafac5567",
   "metadata": {},
   "outputs": [],
   "source": [
    "from typing import List \n",
    "\n",
    "def get_stocks(stocks: List[str], apikey: str) -> pd.DataFrame:\n",
    "    # TODO: Expand the output to multiple stocks, use get_stock_timeline\n",
    "    return pd.DataFrame()"
   ]
  },
  {
   "cell_type": "code",
   "execution_count": null,
   "id": "c1024807-b782-4294-ba22-5d03b04f2694",
   "metadata": {},
   "outputs": [],
   "source": []
  },
  {
   "cell_type": "markdown",
   "id": "b1772dae-954c-4ff2-930b-12f1fd090b90",
   "metadata": {},
   "source": [
    "Test your code"
   ]
  },
  {
   "cell_type": "code",
   "execution_count": null,
   "id": "d5ed4d1e-83ee-4d64-be1c-f6179b561577",
   "metadata": {},
   "outputs": [],
   "source": [
    "result = get_stocks(['AAPL', 'TSLA'], os.environ['API_KEY'])\n",
    "if 'ticker' in result.columns:\n",
    "    ticker = list(result.ticker.unique())\n",
    "else:\n",
    "    ticker = []\n",
    "print(f\"Check 1: Actual stocks {ticker}, expected stocks: {['AAPL', 'TSLA']}\")"
   ]
  },
  {
   "cell_type": "markdown",
   "id": "2e5175dd-a7b2-4b73-9a7a-ed540ac0df46",
   "metadata": {},
   "source": [
    "Check [Dashboard](http://127.0.0.1:8505)"
   ]
  },
  {
   "cell_type": "markdown",
   "id": "732857cb-0e15-4ee8-9990-fb38e4f6dcb0",
   "metadata": {},
   "source": [
    "# Task 5: Feature Engineering\n",
    "## Lets add additonal features such as stock performance"
   ]
  },
  {
   "cell_type": "code",
   "execution_count": null,
   "id": "1659cf8e-951f-4e3d-ab38-366ba195aebc",
   "metadata": {},
   "outputs": [],
   "source": [
    "df = get_or_load('AAPL', os.environ['API_KEY'])"
   ]
  },
  {
   "cell_type": "markdown",
   "id": "3e3f5b12-d08e-445c-be66-fad2247dcc70",
   "metadata": {},
   "source": [
    "### Your code"
   ]
  },
  {
   "cell_type": "code",
   "execution_count": null,
   "id": "00c5aae7-5aa8-4c1c-926b-1f62991dbcb1",
   "metadata": {},
   "outputs": [],
   "source": [
    "def get_performance(df: pd.DataFrame):\n",
    "    return df"
   ]
  },
  {
   "cell_type": "code",
   "execution_count": null,
   "id": "50732bfe-ce0c-41cf-a745-d9e208957185",
   "metadata": {},
   "outputs": [],
   "source": []
  },
  {
   "cell_type": "markdown",
   "id": "7e85b4e1-7cd5-487d-8eb1-defb822cbdaf",
   "metadata": {},
   "source": [
    "Test your code"
   ]
  },
  {
   "cell_type": "code",
   "execution_count": null,
   "id": "0146c441-859c-4625-bcd0-2ceb814cddb7",
   "metadata": {},
   "outputs": [],
   "source": [
    "result = get_performance(df)\n",
    "print(f\"Check 2: Actual columns: {list(result.columns)}, expected columns: {['timestamp', 'open', 'high', 'low', 'close', 'volume', 'ticker', 'performance']}\")"
   ]
  },
  {
   "cell_type": "markdown",
   "id": "9a9f6157-4b79-4ae0-b4e0-1aeb48cb6fef",
   "metadata": {},
   "source": [
    "Check [Dashboard](http://127.0.0.1:8505)"
   ]
  }
 ],
 "metadata": {
  "kernelspec": {
   "display_name": "Python 3 (ipykernel)",
   "language": "python",
   "name": "python3"
  },
  "language_info": {
   "codemirror_mode": {
    "name": "ipython",
    "version": 3
   },
   "file_extension": ".py",
   "mimetype": "text/x-python",
   "name": "python",
   "nbconvert_exporter": "python",
   "pygments_lexer": "ipython3",
   "version": "3.10.6"
  }
 },
 "nbformat": 4,
 "nbformat_minor": 5
}
