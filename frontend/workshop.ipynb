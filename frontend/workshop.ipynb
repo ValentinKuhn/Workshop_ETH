{
 "cells": [
  {
   "cell_type": "markdown",
   "id": "83fc25bb-dad7-4e93-922c-647fa3dc8cb4",
   "metadata": {},
   "source": [
    "# Data Engineering your stocks"
   ]
  },
  {
   "cell_type": "code",
   "execution_count": 64,
   "id": "a04ea026-49bb-4193-b5ef-14f4d19dfac5",
   "metadata": {},
   "outputs": [],
   "source": [
    "import os\n",
    "import pandas as pd\n",
    "import numpy as np\n",
    "import time"
   ]
  },
  {
   "cell_type": "markdown",
   "id": "1125f7bf-e703-4088-bf7e-0e816bc2f1fb",
   "metadata": {},
   "source": [
    "# Task 1: Get stock price data from API"
   ]
  },
  {
   "cell_type": "code",
   "execution_count": 42,
   "id": "c1e5eea6-43d4-49e0-bfc2-c09279f5ae47",
   "metadata": {},
   "outputs": [],
   "source": [
    "def get_stock_prices(stock: str, apikey: str):\n",
    "    api_result = get_stock_API(stock, apikey)\n",
    "    output = transform_api_output(api_result)\n",
    "    output['ticker'] = stock\n",
    "    output['close'] = output['close'].astype(float)\n",
    "    return output"
   ]
  },
  {
   "cell_type": "code",
   "execution_count": 43,
   "id": "d7d48a94-4ba8-430a-8ab5-d9506fe3238b",
   "metadata": {},
   "outputs": [],
   "source": [
    "import requests\n",
    "def get_stock_API(stock: str, apikey: str):\n",
    "    API_URL = \"https://www.alphavantage.co/query\"\n",
    "    data = {\n",
    "        \"function\": \"TIME_SERIES_DAILY\",\n",
    "        \"symbol\": stock,\n",
    "        \"outputsize\": \"compact\",\n",
    "        \"datatype\": \"csv\",\n",
    "        \"apikey\": apikey,\n",
    "    }\n",
    "    response = requests.get(API_URL, data)\n",
    "    if 'Invalid API call' in response.text:\n",
    "        raise KeyError(\"Ticker not valid!\")\n",
    "    while '5 calls per minute' in response.text:\n",
    "        time.sleep(60)\n",
    "        response = requests.get(API_URL, data)\n",
    "    return response.text"
   ]
  },
  {
   "cell_type": "code",
   "execution_count": 37,
   "id": "b51c5861-e73e-4d0d-8dd0-a63e87676630",
   "metadata": {},
   "outputs": [
    {
     "data": {
      "text/plain": [
       "'timestamp,open,high,low,close,volume\\r\\n2022-10-21,142.8700,147.8479,142.6490,147.2700,86548609\\r\\n2022-10-20,143.0200,145.8900,142.6500,143.3900,64521989\\r\\n2022-10-19,141.6900,144.9492,141.5000,143.8600,61758340\\r\\n2022-10-18,145.4900,146.7000,140.6100,143.7500,99136610\\r\\n2022-10-17,141.0650,142.9000,140.2700,142.4100,85250939\\r\\n2022-10-14,144.3100,144.5200,138.1900,138.3800,88597969\\r\\n2022-10-13,134.9900,143.5900,134.3700,142.9900,113223975\\r\\n2022-10-12,139.1300,140.3600,138.1600,138.3400,70433744\\r\\n2022-10-11,139.9000,141.3500,138.2200,138.9800,77033672\\r\\n2022-10-10,140.4200,141.8900,138.5729,140.4200,74899002\\r\\n2022-10-07,142.5400,143.1000,139.4450,140.0900,85925559\\r\\n2022-10-06,145.8100,147.5400,145.2200,145.4300,68402169\\r\\n2022-10-05,144.0750,147.3800,143.0100,146.4000,79470968\\r\\n2022-10-04,145.0300,146.2200,144.2600,146.1000,87830064\\r\\n2022-10-03,138.2100,143.0700,137.6850,142.4500,114311663\\r\\n2022-09-30,141.2800,143.1000,138.0000,138.2000,124925274\\r\\n2022-09-29,146.1000,146.7200,140.6800,142.4800,128138237\\r\\n2022-09-28,147.6400,150.6414,144.8400,149.8400,146691387\\r\\n2022-09-27,152.7400,154.7200,149.9450,151.7600,84442741\\r\\n2022-09-26,149.6600,153.7701,149.6400,150.7700,93339409\\r\\n2022-09-23,151.1900,151.4700,148.5600,150.4300,96029909\\r\\n2022-09-22,152.3800,154.4700,150.9100,152.7400,86264792\\r\\n2022-09-21,157.3400,158.7400,153.6000,153.7200,101696790\\r\\n2022-09-20,153.4000,158.0800,153.0800,156.9000,107689796\\r\\n2022-09-19,149.3100,154.5600,149.1000,154.4800,81474246\\r\\n2022-09-16,151.2100,151.3500,148.3700,150.7000,162278841\\r\\n2022-09-15,154.6500,155.2400,151.3800,152.3700,90481110\\r\\n2022-09-14,154.7850,157.1000,153.6106,155.3100,87965409\\r\\n2022-09-13,159.9000,160.5400,153.3700,153.8400,122656614\\r\\n2022-09-12,159.5900,164.2600,159.3000,163.4300,104955962\\r\\n2022-09-09,155.4700,157.8200,154.7500,157.3700,68081006\\r\\n2022-09-08,154.6400,156.3600,152.6800,154.4600,84923847\\r\\n2022-09-07,154.8250,156.6700,153.6100,155.9600,87449574\\r\\n2022-09-06,156.4700,157.0900,153.6900,154.5300,73295539\\r\\n2022-09-02,159.7500,160.3620,154.9650,155.8100,76957768\\r\\n2022-09-01,156.6400,158.4200,154.6700,157.9600,74229896\\r\\n2022-08-31,160.3050,160.5800,157.1400,157.2200,87991091\\r\\n2022-08-30,162.1300,162.5600,157.7200,158.9100,77906197\\r\\n2022-08-29,161.1450,162.9000,159.8200,161.3800,72724452\\r\\n2022-08-26,170.5700,171.0500,163.5600,163.6200,78960980\\r\\n2022-08-25,168.7800,170.1400,168.3500,170.0300,51218209\\r\\n2022-08-24,167.3200,168.1100,166.2450,167.5300,53841524\\r\\n2022-08-23,167.0800,168.7100,166.6500,167.2300,54147079\\r\\n2022-08-22,169.6900,169.8600,167.1350,167.5700,69026809\\r\\n2022-08-19,173.0300,173.7400,171.3101,171.5200,70346295\\r\\n2022-08-18,173.7500,174.9000,173.1200,174.1500,62290075\\r\\n2022-08-17,172.7700,176.1500,172.5700,174.5500,79542037\\r\\n2022-08-16,172.7800,173.7100,171.6618,173.0300,56377050\\r\\n2022-08-15,171.5200,173.3900,171.3450,173.1900,54091694\\r\\n2022-08-12,169.8200,172.1700,169.4000,172.1000,68039382\\r\\n2022-08-11,170.0600,170.9900,168.1900,168.4900,57149159\\r\\n2022-08-10,167.6800,169.3400,166.9000,169.2400,70170540\\r\\n2022-08-09,164.0200,165.8200,163.2500,164.9200,63135503\\r\\n2022-08-08,166.3700,167.8100,164.2000,164.8700,60362338\\r\\n2022-08-05,163.2100,165.8500,163.0000,165.3500,56696985\\r\\n2022-08-04,166.0050,167.1900,164.4300,165.8100,55474144\\r\\n2022-08-03,160.8400,166.5900,160.7500,166.1300,82507488\\r\\n2022-08-02,160.1000,162.4100,159.6300,160.0100,59907025\\r\\n2022-08-01,161.0100,163.5900,160.8900,161.5100,67829379\\r\\n2022-07-29,161.2400,163.6300,159.5000,162.5100,101786860\\r\\n2022-07-28,156.9800,157.6400,154.4100,157.3500,81378731\\r\\n2022-07-27,152.5800,157.3300,152.1600,156.7900,78620688\\r\\n2022-07-26,152.2650,153.0850,150.8000,151.6000,55138691\\r\\n2022-07-25,154.0100,155.0400,152.2800,152.9500,53623945\\r\\n2022-07-22,155.3900,156.2800,153.4100,154.0900,66675408\\r\\n2022-07-21,154.5000,155.5700,151.9400,155.3500,65086636\\r\\n2022-07-20,151.1200,153.7200,150.3700,153.0400,64823413\\r\\n2022-07-19,147.9200,151.2300,146.9100,151.0000,82982367\\r\\n2022-07-18,150.7400,151.5700,146.7000,147.0700,81420868\\r\\n2022-07-15,149.7800,150.8600,148.2000,150.1700,76259931\\r\\n2022-07-14,144.0800,148.9500,143.2500,148.4700,78140744\\r\\n2022-07-13,142.9900,146.4500,142.1201,145.4900,71185560\\r\\n2022-07-12,145.7600,148.4500,145.0500,145.8600,77588759\\r\\n2022-07-11,145.6700,146.6400,143.7800,144.8700,63305113\\r\\n2022-07-08,145.2650,147.5500,145.0000,147.0400,64547798\\r\\n2022-07-07,143.2900,146.5500,143.2800,146.3500,66253709\\r\\n2022-07-06,141.3550,144.1200,141.0800,142.9200,74064254\\r\\n2022-07-05,137.7700,141.6100,136.9300,141.5600,73429641\\r\\n2022-07-01,136.0400,139.0400,135.6600,138.9300,71051552\\r\\n2022-06-30,137.2500,138.3700,133.7737,136.7200,98964467\\r\\n2022-06-29,137.4600,140.6700,136.6700,139.2300,66242411\\r\\n2022-06-28,142.1300,143.4220,137.3250,137.4400,67315328\\r\\n2022-06-27,142.6950,143.4900,140.9650,141.6600,70207908\\r\\n2022-06-24,139.9000,141.9100,139.7700,141.6600,89116837\\r\\n2022-06-23,136.8200,138.5900,135.6300,138.2700,72433768\\r\\n2022-06-22,134.7900,137.7600,133.9100,135.3500,73409234\\r\\n2022-06-21,133.4200,137.0600,133.3200,135.8700,81000488\\r\\n2022-06-17,130.0650,133.0790,129.8100,131.5600,134520290\\r\\n2022-06-16,132.0800,132.3900,129.0400,130.0600,107961508\\r\\n2022-06-15,134.2900,137.3400,132.1600,135.4300,91532972\\r\\n2022-06-14,133.1300,133.8900,131.4800,132.7600,84784326\\r\\n2022-06-13,132.8700,135.2000,131.4400,131.8800,122207099\\r\\n2022-06-10,140.2800,140.7600,137.0600,137.1300,91566637\\r\\n2022-06-09,147.0800,147.9500,142.5300,142.6400,69472976\\r\\n2022-06-08,148.5800,149.8697,147.4600,147.9600,53950201\\r\\n2022-06-07,144.3450,149.0000,144.1000,148.7100,67808150\\r\\n2022-06-06,147.0300,148.5689,144.9000,146.1400,71598380\\r\\n2022-06-03,146.9000,147.9700,144.4600,145.3800,88570289\\r\\n2022-06-02,147.8300,151.2700,146.8600,151.2100,72348055\\r\\n2022-06-01,149.9000,151.7400,147.6800,148.7100,74286635\\r\\n'"
      ]
     },
     "execution_count": 37,
     "metadata": {},
     "output_type": "execute_result"
    }
   ],
   "source": [
    "api_result = get_stock_API('AAPL', os.environ['API_KEY'])\n",
    "api_result"
   ]
  },
  {
   "cell_type": "markdown",
   "id": "c368e851-34a9-46c2-b42b-ef388987ef52",
   "metadata": {},
   "source": [
    "### Your code"
   ]
  },
  {
   "cell_type": "code",
   "execution_count": 68,
   "id": "d946c719-0205-46e1-9fe5-a188d6c4a05a",
   "metadata": {},
   "outputs": [],
   "source": [
    "def transform_api_output(api_result: str):\n",
    "    return pd.DataFrame()"
   ]
  },
  {
   "cell_type": "code",
   "execution_count": null,
   "id": "785c622b-c02a-48c4-80e3-0f33ce738b63",
   "metadata": {},
   "outputs": [],
   "source": []
  },
  {
   "cell_type": "markdown",
   "id": "a4f02358-70a7-4698-8c0b-1bdb6b2ca122",
   "metadata": {},
   "source": [
    "Test your code"
   ]
  },
  {
   "cell_type": "code",
   "execution_count": 47,
   "id": "e160eceb-1045-4f43-913b-879ba7d1804f",
   "metadata": {
    "tags": []
   },
   "outputs": [
    {
     "name": "stdout",
     "output_type": "stream",
     "text": [
      "Check 1: Actual shape: (100, 6), expected shape: (100, 6)\n",
      "Check 2: Actual columns: ['timestamp', 'open', 'high', 'low', 'close', 'volume'], expected columns: ['timestamp', 'open', 'high', 'low', 'close', 'volume']\n"
     ]
    }
   ],
   "source": [
    "result = transform_api_output(api_result)\n",
    "print(f\"Check 1: Actual shape: {result.shape}, expected shape: {(100,6)}\")\n",
    "print(f\"Check 2: Actual columns: {list(result.columns)}, expected columns: {['timestamp', 'open', 'high', 'low', 'close', 'volume']}\")"
   ]
  },
  {
   "cell_type": "markdown",
   "id": "cdafa0ae-8ffd-4423-bd2c-86d548885c64",
   "metadata": {},
   "source": [
    "Check [Dashboard](http://127.0.0.1:8505)"
   ]
  },
  {
   "cell_type": "markdown",
   "id": "59be097a-0446-4f7f-836a-74f7ad4df85d",
   "metadata": {},
   "source": [
    "# Task 2: Buffering Data"
   ]
  },
  {
   "cell_type": "code",
   "execution_count": 57,
   "id": "e322c996-7da1-44b1-9890-ca0603208cb5",
   "metadata": {},
   "outputs": [],
   "source": [
    "def get_or_load(stock: str, apikey: str):\n",
    "    # Define folder, filename and file path\n",
    "    file_name = f'{stock}.csv'\n",
    "    data_dir = 'data/current/'\n",
    "    file_path = f'{data_dir}{file_name}'\n",
    "    \n",
    "    # Check if stock already in data lake\n",
    "    if file_name in os.listdir(data_dir):\n",
    "        data = pd.read_csv(file_path, index_col=0)\n",
    "        return data\n",
    "    \n",
    "    # If stock not found locally, return API call\n",
    "    data = get_stock_prices(stock, apikey)\n",
    "    if 'timestamp' in data.columns:\n",
    "        data.to_csv(file_path)\n",
    "        return data\n",
    "    else:\n",
    "        raise KeyError('Column timestamp not in dataframe!')\n",
    "        \n",
    "    "
   ]
  },
  {
   "cell_type": "code",
   "execution_count": 50,
   "id": "cc3dd5c4-b9d6-412a-bacc-334af2c6eae5",
   "metadata": {},
   "outputs": [
    {
     "data": {
      "text/html": [
       "<div>\n",
       "<style scoped>\n",
       "    .dataframe tbody tr th:only-of-type {\n",
       "        vertical-align: middle;\n",
       "    }\n",
       "\n",
       "    .dataframe tbody tr th {\n",
       "        vertical-align: top;\n",
       "    }\n",
       "\n",
       "    .dataframe thead th {\n",
       "        text-align: right;\n",
       "    }\n",
       "</style>\n",
       "<table border=\"1\" class=\"dataframe\">\n",
       "  <thead>\n",
       "    <tr style=\"text-align: right;\">\n",
       "      <th></th>\n",
       "      <th>timestamp</th>\n",
       "      <th>open</th>\n",
       "      <th>high</th>\n",
       "      <th>low</th>\n",
       "      <th>close</th>\n",
       "      <th>volume</th>\n",
       "      <th>ticker</th>\n",
       "    </tr>\n",
       "  </thead>\n",
       "  <tbody>\n",
       "    <tr>\n",
       "      <th>0</th>\n",
       "      <td>2022-10-21</td>\n",
       "      <td>142.870</td>\n",
       "      <td>147.8479</td>\n",
       "      <td>142.649</td>\n",
       "      <td>147.27</td>\n",
       "      <td>86548609</td>\n",
       "      <td>AAPL</td>\n",
       "    </tr>\n",
       "    <tr>\n",
       "      <th>1</th>\n",
       "      <td>2022-10-20</td>\n",
       "      <td>143.020</td>\n",
       "      <td>145.8900</td>\n",
       "      <td>142.650</td>\n",
       "      <td>143.39</td>\n",
       "      <td>64521989</td>\n",
       "      <td>AAPL</td>\n",
       "    </tr>\n",
       "    <tr>\n",
       "      <th>2</th>\n",
       "      <td>2022-10-19</td>\n",
       "      <td>141.690</td>\n",
       "      <td>144.9492</td>\n",
       "      <td>141.500</td>\n",
       "      <td>143.86</td>\n",
       "      <td>61758340</td>\n",
       "      <td>AAPL</td>\n",
       "    </tr>\n",
       "    <tr>\n",
       "      <th>3</th>\n",
       "      <td>2022-10-18</td>\n",
       "      <td>145.490</td>\n",
       "      <td>146.7000</td>\n",
       "      <td>140.610</td>\n",
       "      <td>143.75</td>\n",
       "      <td>99136610</td>\n",
       "      <td>AAPL</td>\n",
       "    </tr>\n",
       "    <tr>\n",
       "      <th>4</th>\n",
       "      <td>2022-10-17</td>\n",
       "      <td>141.065</td>\n",
       "      <td>142.9000</td>\n",
       "      <td>140.270</td>\n",
       "      <td>142.41</td>\n",
       "      <td>85250939</td>\n",
       "      <td>AAPL</td>\n",
       "    </tr>\n",
       "    <tr>\n",
       "      <th>...</th>\n",
       "      <td>...</td>\n",
       "      <td>...</td>\n",
       "      <td>...</td>\n",
       "      <td>...</td>\n",
       "      <td>...</td>\n",
       "      <td>...</td>\n",
       "      <td>...</td>\n",
       "    </tr>\n",
       "    <tr>\n",
       "      <th>95</th>\n",
       "      <td>2022-06-07</td>\n",
       "      <td>144.345</td>\n",
       "      <td>149.0000</td>\n",
       "      <td>144.100</td>\n",
       "      <td>148.71</td>\n",
       "      <td>67808150</td>\n",
       "      <td>AAPL</td>\n",
       "    </tr>\n",
       "    <tr>\n",
       "      <th>96</th>\n",
       "      <td>2022-06-06</td>\n",
       "      <td>147.030</td>\n",
       "      <td>148.5689</td>\n",
       "      <td>144.900</td>\n",
       "      <td>146.14</td>\n",
       "      <td>71598380</td>\n",
       "      <td>AAPL</td>\n",
       "    </tr>\n",
       "    <tr>\n",
       "      <th>97</th>\n",
       "      <td>2022-06-03</td>\n",
       "      <td>146.900</td>\n",
       "      <td>147.9700</td>\n",
       "      <td>144.460</td>\n",
       "      <td>145.38</td>\n",
       "      <td>88570289</td>\n",
       "      <td>AAPL</td>\n",
       "    </tr>\n",
       "    <tr>\n",
       "      <th>98</th>\n",
       "      <td>2022-06-02</td>\n",
       "      <td>147.830</td>\n",
       "      <td>151.2700</td>\n",
       "      <td>146.860</td>\n",
       "      <td>151.21</td>\n",
       "      <td>72348055</td>\n",
       "      <td>AAPL</td>\n",
       "    </tr>\n",
       "    <tr>\n",
       "      <th>99</th>\n",
       "      <td>2022-06-01</td>\n",
       "      <td>149.900</td>\n",
       "      <td>151.7400</td>\n",
       "      <td>147.680</td>\n",
       "      <td>148.71</td>\n",
       "      <td>74286635</td>\n",
       "      <td>AAPL</td>\n",
       "    </tr>\n",
       "  </tbody>\n",
       "</table>\n",
       "<p>100 rows × 7 columns</p>\n",
       "</div>"
      ],
      "text/plain": [
       "     timestamp     open      high      low   close    volume ticker\n",
       "0   2022-10-21  142.870  147.8479  142.649  147.27  86548609   AAPL\n",
       "1   2022-10-20  143.020  145.8900  142.650  143.39  64521989   AAPL\n",
       "2   2022-10-19  141.690  144.9492  141.500  143.86  61758340   AAPL\n",
       "3   2022-10-18  145.490  146.7000  140.610  143.75  99136610   AAPL\n",
       "4   2022-10-17  141.065  142.9000  140.270  142.41  85250939   AAPL\n",
       "..         ...      ...       ...      ...     ...       ...    ...\n",
       "95  2022-06-07  144.345  149.0000  144.100  148.71  67808150   AAPL\n",
       "96  2022-06-06  147.030  148.5689  144.900  146.14  71598380   AAPL\n",
       "97  2022-06-03  146.900  147.9700  144.460  145.38  88570289   AAPL\n",
       "98  2022-06-02  147.830  151.2700  146.860  151.21  72348055   AAPL\n",
       "99  2022-06-01  149.900  151.7400  147.680  148.71  74286635   AAPL\n",
       "\n",
       "[100 rows x 7 columns]"
      ]
     },
     "execution_count": 67,
     "metadata": {},
     "output_type": "execute_result"
    }
   ],
   "source": [
    "get_or_load('AAPL', os.environ['API_KEY'])"
   ]
  },
  {
   "cell_type": "markdown",
   "id": "9ca57d74-6da3-4971-a879-a517a3bd1cb7",
   "metadata": {},
   "source": [
    "### Your code"
   ]
  },
  {
   "cell_type": "code",
   "execution_count": null,
   "id": "23e1fe05-1441-4393-b3ba-bfdbb8c8c916",
   "metadata": {},
   "outputs": [],
   "source": []
  },
  {
   "cell_type": "code",
   "execution_count": null,
   "id": "78ce7737-a9c7-43e3-8cfa-57a26b3e0d7e",
   "metadata": {},
   "outputs": [],
   "source": []
  },
  {
   "cell_type": "markdown",
   "id": "968a7381-7247-4f63-8117-29b100d974e8",
   "metadata": {},
   "source": [
    "# Task 3: Get and clean historical data"
   ]
  },
  {
   "cell_type": "code",
   "execution_count": 63,
   "id": "7165d571-125a-47fe-b098-7e996ac5c98f",
   "metadata": {},
   "outputs": [],
   "source": [
    "from utils import get_historical_data\n",
    "def get_stock_timeline(stock: str, apikey: str):\n",
    "    current_data = get_or_load(stock, apikey)\n",
    "    \n",
    "    hist_data_raw = get_historical_data(stock, apikey)\n",
    "    # TODO: define transformation function for historical data\n",
    "    hist_data = transform_hist_data(hist_data_raw)\n",
    "    \n",
    "    output = pd.concat([current_data,hist_data])\n",
    "    output['close'] = output['close'].astype(float)\n",
    "    return output"
   ]
  },
  {
   "cell_type": "code",
   "execution_count": 21,
   "id": "8a4b63f8-47ac-49f5-9672-7efe4b7adbf3",
   "metadata": {},
   "outputs": [
    {
     "data": {
      "text/html": [
       "<div>\n",
       "<style scoped>\n",
       "    .dataframe tbody tr th:only-of-type {\n",
       "        vertical-align: middle;\n",
       "    }\n",
       "\n",
       "    .dataframe tbody tr th {\n",
       "        vertical-align: top;\n",
       "    }\n",
       "\n",
       "    .dataframe thead th {\n",
       "        text-align: right;\n",
       "    }\n",
       "</style>\n",
       "<table border=\"1\" class=\"dataframe\">\n",
       "  <thead>\n",
       "    <tr style=\"text-align: right;\">\n",
       "      <th></th>\n",
       "      <th>timestamp</th>\n",
       "      <th>open</th>\n",
       "      <th>high</th>\n",
       "      <th>low</th>\n",
       "      <th>close</th>\n",
       "      <th>volume</th>\n",
       "      <th>ticker</th>\n",
       "    </tr>\n",
       "  </thead>\n",
       "  <tbody>\n",
       "    <tr>\n",
       "      <th>100</th>\n",
       "      <td>2022/05/31</td>\n",
       "      <td>149.0700</td>\n",
       "      <td>150.6600</td>\n",
       "      <td>146.8400</td>\n",
       "      <td>14884.0</td>\n",
       "      <td>103718416</td>\n",
       "      <td>AAPL</td>\n",
       "    </tr>\n",
       "    <tr>\n",
       "      <th>101</th>\n",
       "      <td>2022/05/27</td>\n",
       "      <td>145.3900</td>\n",
       "      <td>149.6800</td>\n",
       "      <td>145.2600</td>\n",
       "      <td>14964.0</td>\n",
       "      <td>90978503</td>\n",
       "      <td>AAPL</td>\n",
       "    </tr>\n",
       "    <tr>\n",
       "      <th>102</th>\n",
       "      <td>2022/05/26</td>\n",
       "      <td>137.3900</td>\n",
       "      <td>144.3400</td>\n",
       "      <td>137.1400</td>\n",
       "      <td>14378.0</td>\n",
       "      <td>90601548</td>\n",
       "      <td>AAPL</td>\n",
       "    </tr>\n",
       "    <tr>\n",
       "      <th>103</th>\n",
       "      <td>2022/05/25</td>\n",
       "      <td>138.4300</td>\n",
       "      <td>141.7850</td>\n",
       "      <td>138.3400</td>\n",
       "      <td>14052.0</td>\n",
       "      <td>92482696</td>\n",
       "      <td>AAPL</td>\n",
       "    </tr>\n",
       "    <tr>\n",
       "      <th>104</th>\n",
       "      <td>2022/05/24</td>\n",
       "      <td>140.8050</td>\n",
       "      <td>141.9700</td>\n",
       "      <td>137.3300</td>\n",
       "      <td>14036.0</td>\n",
       "      <td>104132746</td>\n",
       "      <td>AAPL</td>\n",
       "    </tr>\n",
       "    <tr>\n",
       "      <th>...</th>\n",
       "      <td>...</td>\n",
       "      <td>...</td>\n",
       "      <td>...</td>\n",
       "      <td>...</td>\n",
       "      <td>...</td>\n",
       "      <td>...</td>\n",
       "      <td>...</td>\n",
       "    </tr>\n",
       "    <tr>\n",
       "      <th>5777</th>\n",
       "      <td>1999/11/05</td>\n",
       "      <td>84.6200</td>\n",
       "      <td>88.3700</td>\n",
       "      <td>84.0000</td>\n",
       "      <td>8831.0</td>\n",
       "      <td>3721500</td>\n",
       "      <td>AAPL</td>\n",
       "    </tr>\n",
       "    <tr>\n",
       "      <th>5778</th>\n",
       "      <td>1999/11/04</td>\n",
       "      <td>82.0600</td>\n",
       "      <td>85.3700</td>\n",
       "      <td>80.6200</td>\n",
       "      <td>8362.0</td>\n",
       "      <td>3384700</td>\n",
       "      <td>AAPL</td>\n",
       "    </tr>\n",
       "    <tr>\n",
       "      <th>5779</th>\n",
       "      <td>1999/11/03</td>\n",
       "      <td>81.6200</td>\n",
       "      <td>83.2500</td>\n",
       "      <td>81.0000</td>\n",
       "      <td>8150.0</td>\n",
       "      <td>2932700</td>\n",
       "      <td>AAPL</td>\n",
       "    </tr>\n",
       "    <tr>\n",
       "      <th>5780</th>\n",
       "      <td>1999/11/02</td>\n",
       "      <td>78.0000</td>\n",
       "      <td>81.6900</td>\n",
       "      <td>77.3100</td>\n",
       "      <td>8025.0</td>\n",
       "      <td>3564600</td>\n",
       "      <td>AAPL</td>\n",
       "    </tr>\n",
       "    <tr>\n",
       "      <th>5781</th>\n",
       "      <td>1999/11/01</td>\n",
       "      <td>80.0000</td>\n",
       "      <td>80.6900</td>\n",
       "      <td>77.3700</td>\n",
       "      <td>7762.0</td>\n",
       "      <td>2487300</td>\n",
       "      <td>AAPL</td>\n",
       "    </tr>\n",
       "  </tbody>\n",
       "</table>\n",
       "<p>5682 rows × 7 columns</p>\n",
       "</div>"
      ],
      "text/plain": [
       "       timestamp      open      high       low    close     volume ticker\n",
       "100   2022/05/31  149.0700  150.6600  146.8400  14884.0  103718416   AAPL\n",
       "101   2022/05/27  145.3900  149.6800  145.2600  14964.0   90978503   AAPL\n",
       "102   2022/05/26  137.3900  144.3400  137.1400  14378.0   90601548   AAPL\n",
       "103   2022/05/25  138.4300  141.7850  138.3400  14052.0   92482696   AAPL\n",
       "104   2022/05/24  140.8050  141.9700  137.3300  14036.0  104132746   AAPL\n",
       "...          ...       ...       ...       ...      ...        ...    ...\n",
       "5777  1999/11/05   84.6200   88.3700   84.0000   8831.0    3721500   AAPL\n",
       "5778  1999/11/04   82.0600   85.3700   80.6200   8362.0    3384700   AAPL\n",
       "5779  1999/11/03   81.6200   83.2500   81.0000   8150.0    2932700   AAPL\n",
       "5780  1999/11/02   78.0000   81.6900   77.3100   8025.0    3564600   AAPL\n",
       "5781  1999/11/01   80.0000   80.6900   77.3700   7762.0    2487300   AAPL\n",
       "\n",
       "[5682 rows x 7 columns]"
      ]
     },
     "execution_count": 21,
     "metadata": {},
     "output_type": "execute_result"
    }
   ],
   "source": [
    "historical_prices = get_historical_data('AAPL', os.environ['API_KEY'])\n",
    "historical_prices"
   ]
  },
  {
   "cell_type": "code",
   "execution_count": 51,
   "id": "46908140-71b3-47d2-a5e6-d4cb100a2cb2",
   "metadata": {},
   "outputs": [
    {
     "data": {
      "text/html": [
       "<div>\n",
       "<style scoped>\n",
       "    .dataframe tbody tr th:only-of-type {\n",
       "        vertical-align: middle;\n",
       "    }\n",
       "\n",
       "    .dataframe tbody tr th {\n",
       "        vertical-align: top;\n",
       "    }\n",
       "\n",
       "    .dataframe thead th {\n",
       "        text-align: right;\n",
       "    }\n",
       "</style>\n",
       "<table border=\"1\" class=\"dataframe\">\n",
       "  <thead>\n",
       "    <tr style=\"text-align: right;\">\n",
       "      <th></th>\n",
       "      <th>Unnamed: 0</th>\n",
       "      <th>timestamp</th>\n",
       "      <th>open</th>\n",
       "      <th>high</th>\n",
       "      <th>low</th>\n",
       "      <th>close</th>\n",
       "      <th>volume</th>\n",
       "      <th>ticker</th>\n",
       "    </tr>\n",
       "  </thead>\n",
       "  <tbody>\n",
       "    <tr>\n",
       "      <th>0</th>\n",
       "      <td>0</td>\n",
       "      <td>2022-10-21</td>\n",
       "      <td>142.870</td>\n",
       "      <td>147.8479</td>\n",
       "      <td>142.649</td>\n",
       "      <td>147.27</td>\n",
       "      <td>86548609</td>\n",
       "      <td>AAPL</td>\n",
       "    </tr>\n",
       "    <tr>\n",
       "      <th>1</th>\n",
       "      <td>1</td>\n",
       "      <td>2022-10-20</td>\n",
       "      <td>143.020</td>\n",
       "      <td>145.8900</td>\n",
       "      <td>142.650</td>\n",
       "      <td>143.39</td>\n",
       "      <td>64521989</td>\n",
       "      <td>AAPL</td>\n",
       "    </tr>\n",
       "    <tr>\n",
       "      <th>2</th>\n",
       "      <td>2</td>\n",
       "      <td>2022-10-19</td>\n",
       "      <td>141.690</td>\n",
       "      <td>144.9492</td>\n",
       "      <td>141.500</td>\n",
       "      <td>143.86</td>\n",
       "      <td>61758340</td>\n",
       "      <td>AAPL</td>\n",
       "    </tr>\n",
       "    <tr>\n",
       "      <th>3</th>\n",
       "      <td>3</td>\n",
       "      <td>2022-10-18</td>\n",
       "      <td>145.490</td>\n",
       "      <td>146.7000</td>\n",
       "      <td>140.610</td>\n",
       "      <td>143.75</td>\n",
       "      <td>99136610</td>\n",
       "      <td>AAPL</td>\n",
       "    </tr>\n",
       "    <tr>\n",
       "      <th>4</th>\n",
       "      <td>4</td>\n",
       "      <td>2022-10-17</td>\n",
       "      <td>141.065</td>\n",
       "      <td>142.9000</td>\n",
       "      <td>140.270</td>\n",
       "      <td>142.41</td>\n",
       "      <td>85250939</td>\n",
       "      <td>AAPL</td>\n",
       "    </tr>\n",
       "    <tr>\n",
       "      <th>...</th>\n",
       "      <td>...</td>\n",
       "      <td>...</td>\n",
       "      <td>...</td>\n",
       "      <td>...</td>\n",
       "      <td>...</td>\n",
       "      <td>...</td>\n",
       "      <td>...</td>\n",
       "      <td>...</td>\n",
       "    </tr>\n",
       "    <tr>\n",
       "      <th>95</th>\n",
       "      <td>95</td>\n",
       "      <td>2022-06-07</td>\n",
       "      <td>144.345</td>\n",
       "      <td>149.0000</td>\n",
       "      <td>144.100</td>\n",
       "      <td>148.71</td>\n",
       "      <td>67808150</td>\n",
       "      <td>AAPL</td>\n",
       "    </tr>\n",
       "    <tr>\n",
       "      <th>96</th>\n",
       "      <td>96</td>\n",
       "      <td>2022-06-06</td>\n",
       "      <td>147.030</td>\n",
       "      <td>148.5689</td>\n",
       "      <td>144.900</td>\n",
       "      <td>146.14</td>\n",
       "      <td>71598380</td>\n",
       "      <td>AAPL</td>\n",
       "    </tr>\n",
       "    <tr>\n",
       "      <th>97</th>\n",
       "      <td>97</td>\n",
       "      <td>2022-06-03</td>\n",
       "      <td>146.900</td>\n",
       "      <td>147.9700</td>\n",
       "      <td>144.460</td>\n",
       "      <td>145.38</td>\n",
       "      <td>88570289</td>\n",
       "      <td>AAPL</td>\n",
       "    </tr>\n",
       "    <tr>\n",
       "      <th>98</th>\n",
       "      <td>98</td>\n",
       "      <td>2022-06-02</td>\n",
       "      <td>147.830</td>\n",
       "      <td>151.2700</td>\n",
       "      <td>146.860</td>\n",
       "      <td>151.21</td>\n",
       "      <td>72348055</td>\n",
       "      <td>AAPL</td>\n",
       "    </tr>\n",
       "    <tr>\n",
       "      <th>99</th>\n",
       "      <td>99</td>\n",
       "      <td>2022-06-01</td>\n",
       "      <td>149.900</td>\n",
       "      <td>151.7400</td>\n",
       "      <td>147.680</td>\n",
       "      <td>148.71</td>\n",
       "      <td>74286635</td>\n",
       "      <td>AAPL</td>\n",
       "    </tr>\n",
       "  </tbody>\n",
       "</table>\n",
       "<p>100 rows × 8 columns</p>\n",
       "</div>"
      ],
      "text/plain": [
       "    Unnamed: 0   timestamp     open      high      low   close    volume  \\\n",
       "0            0  2022-10-21  142.870  147.8479  142.649  147.27  86548609   \n",
       "1            1  2022-10-20  143.020  145.8900  142.650  143.39  64521989   \n",
       "2            2  2022-10-19  141.690  144.9492  141.500  143.86  61758340   \n",
       "3            3  2022-10-18  145.490  146.7000  140.610  143.75  99136610   \n",
       "4            4  2022-10-17  141.065  142.9000  140.270  142.41  85250939   \n",
       "..         ...         ...      ...       ...      ...     ...       ...   \n",
       "95          95  2022-06-07  144.345  149.0000  144.100  148.71  67808150   \n",
       "96          96  2022-06-06  147.030  148.5689  144.900  146.14  71598380   \n",
       "97          97  2022-06-03  146.900  147.9700  144.460  145.38  88570289   \n",
       "98          98  2022-06-02  147.830  151.2700  146.860  151.21  72348055   \n",
       "99          99  2022-06-01  149.900  151.7400  147.680  148.71  74286635   \n",
       "\n",
       "   ticker  \n",
       "0    AAPL  \n",
       "1    AAPL  \n",
       "2    AAPL  \n",
       "3    AAPL  \n",
       "4    AAPL  \n",
       "..    ...  \n",
       "95   AAPL  \n",
       "96   AAPL  \n",
       "97   AAPL  \n",
       "98   AAPL  \n",
       "99   AAPL  \n",
       "\n",
       "[100 rows x 8 columns]"
      ]
     },
     "execution_count": 51,
     "metadata": {},
     "output_type": "execute_result"
    }
   ],
   "source": [
    "get_or_load('AAPL', os.environ['API_KEY'])"
   ]
  },
  {
   "cell_type": "markdown",
   "id": "38e03fa9-75ea-4e46-b0eb-29aad2759a13",
   "metadata": {},
   "source": [
    "### Your code"
   ]
  },
  {
   "cell_type": "code",
   "execution_count": 53,
   "id": "dec9c583-d7c8-4800-bd5c-4fc033a8ee69",
   "metadata": {},
   "outputs": [],
   "source": [
    "def transform_hist_data(df: pd.DataFrame):\n",
    "    output = df\n",
    "    return output"
   ]
  },
  {
   "cell_type": "code",
   "execution_count": null,
   "id": "53db8034-2127-4aaa-80a9-fcdc64e9539f",
   "metadata": {},
   "outputs": [],
   "source": []
  },
  {
   "cell_type": "markdown",
   "id": "a6395c6d-59ef-45df-981f-873c506d6985",
   "metadata": {},
   "source": [
    "Test your code"
   ]
  },
  {
   "cell_type": "code",
   "execution_count": 54,
   "id": "61a88561-d500-4b21-b3fd-f08ab1e43157",
   "metadata": {},
   "outputs": [
    {
     "name": "stdout",
     "output_type": "stream",
     "text": [
      "Check 1: Actual close mean: 174.07027602956705, expected mean: ~174\n",
      "Check 2: Actual date format: 1999-11-01, expected date format: 1999-11-01\n"
     ]
    }
   ],
   "source": [
    "result = transform_hist_data(historical_prices)\n",
    "result_current = get_or_load('AAPL', os.environ['API_KEY'])\n",
    "print(f\"Check 1: Actual close mean: {result.close.mean()}, expected mean: ~{174}\")\n",
    "print(f\"Check 2: Actual date format: {result.timestamp.to_list()[-1]}, expected date format: 1999-11-01\")"
   ]
  },
  {
   "cell_type": "markdown",
   "id": "59fa0635-8139-42df-83e5-378ba4728dfd",
   "metadata": {},
   "source": [
    "Check [Dashboard](http://127.0.0.1:8505)"
   ]
  },
  {
   "cell_type": "markdown",
   "id": "7964dfed-5f2c-4824-856b-7493a246382c",
   "metadata": {},
   "source": [
    "# Task 4: Get stock prices for multiple stocks"
   ]
  },
  {
   "cell_type": "code",
   "execution_count": 23,
   "id": "cb77dac2-d3d1-459a-bd1a-7ada01c9f5a1",
   "metadata": {},
   "outputs": [],
   "source": [
    "from pytickersymbols import PyTickerSymbols\n",
    "def get_ticker_symbols():\n",
    "    stock_data = PyTickerSymbols()\n",
    "    stocks = stock_data.get_sp_100_nyc_yahoo_tickers()\n",
    "    return stocks"
   ]
  },
  {
   "cell_type": "code",
   "execution_count": 24,
   "id": "dfb0ec11-5b19-4a7b-810b-4279a4904170",
   "metadata": {},
   "outputs": [
    {
     "data": {
      "text/plain": [
       "['LIN', 'MMM', 'AXP', 'AAPL', 'BA', 'CAT', 'CVX', 'CSCO', 'KO', 'DD']"
      ]
     },
     "execution_count": 24,
     "metadata": {},
     "output_type": "execute_result"
    }
   ],
   "source": [
    "get_ticker_symbols()[:10]"
   ]
  },
  {
   "cell_type": "code",
   "execution_count": null,
   "id": "e82ec9f7-1132-4af6-a6ce-501ab72168b1",
   "metadata": {},
   "outputs": [],
   "source": [
    "def get_stock_timeline(stock: str, apikey: str):\n",
    "    current_data = get_or_load(stock, apikey)\n",
    "    \n",
    "    hist_data_raw = get_historical_data(stock, apikey)\n",
    "    # TODO: define transformation function for historical data\n",
    "    hist_data = transform_hist_data(hist_data_raw)\n",
    "    \n",
    "    output = pd.concat([current_data, hist_data])\n",
    "    return output"
   ]
  },
  {
   "cell_type": "markdown",
   "id": "5d28f0a5-5803-4709-a669-becf3ebcbf38",
   "metadata": {},
   "source": [
    "### Your code"
   ]
  },
  {
   "cell_type": "code",
   "execution_count": 25,
   "id": "e08bf17c-b1cc-4d35-bd97-1dbaafac5567",
   "metadata": {},
   "outputs": [],
   "source": [
    "from typing import List \n",
    "\n",
    "def get_stocks(stocks: List[str], apikey: str) -> pd.DataFrame:\n",
    "    # TODO: Expand the output to multiple stocks, use get_stock_timeline\n",
    "    return pd.DataFrame()"
   ]
  },
  {
   "cell_type": "code",
   "execution_count": 26,
   "id": "c1024807-b782-4294-ba22-5d03b04f2694",
   "metadata": {},
   "outputs": [
    {
     "name": "stdout",
     "output_type": "stream",
     "text": [
      "Check 1: Actual stocks [], expected stocks: ['AAPL', 'TSLA']\n"
     ]
    }
   ],
   "source": []
  },
  {
   "cell_type": "markdown",
   "id": "b1772dae-954c-4ff2-930b-12f1fd090b90",
   "metadata": {},
   "source": [
    "Test your code"
   ]
  },
  {
   "cell_type": "code",
   "execution_count": null,
   "id": "d5ed4d1e-83ee-4d64-be1c-f6179b561577",
   "metadata": {},
   "outputs": [],
   "source": [
    "result = get_stocks(['AAPL', 'TSLA'], os.environ['API_KEY'])\n",
    "if 'ticker' in result.columns:\n",
    "    ticker = list(result.ticker.unique())\n",
    "else:\n",
    "    ticker = []\n",
    "print(f\"Check 1: Actual stocks {ticker}, expected stocks: {['AAPL', 'TSLA']}\")"
   ]
  },
  {
   "cell_type": "markdown",
   "id": "2e5175dd-a7b2-4b73-9a7a-ed540ac0df46",
   "metadata": {},
   "source": [
    "Check [Dashboard](http://127.0.0.1:8505)"
   ]
  },
  {
   "cell_type": "markdown",
   "id": "732857cb-0e15-4ee8-9990-fb38e4f6dcb0",
   "metadata": {},
   "source": [
    "# Task 5: Feature Engineering\n",
    "## Lets add additonal features such as stock performance"
   ]
  },
  {
   "cell_type": "code",
   "execution_count": null,
   "id": "1659cf8e-951f-4e3d-ab38-366ba195aebc",
   "metadata": {},
   "outputs": [],
   "source": [
    "get_or_load('AAPL', os.environ['API_KEY'])"
   ]
  },
  {
   "cell_type": "markdown",
   "id": "3e3f5b12-d08e-445c-be66-fad2247dcc70",
   "metadata": {},
   "source": [
    "### Your code"
   ]
  },
  {
   "cell_type": "code",
   "execution_count": null,
   "id": "00c5aae7-5aa8-4c1c-926b-1f62991dbcb1",
   "metadata": {},
   "outputs": [],
   "source": [
    "def get_performance(df: pd.DataFrame):\n",
    "    return df"
   ]
  },
  {
   "cell_type": "code",
   "execution_count": null,
   "id": "50732bfe-ce0c-41cf-a745-d9e208957185",
   "metadata": {},
   "outputs": [],
   "source": []
  },
  {
   "cell_type": "markdown",
   "id": "7e85b4e1-7cd5-487d-8eb1-defb822cbdaf",
   "metadata": {},
   "source": [
    "Test your code"
   ]
  },
  {
   "cell_type": "code",
   "execution_count": null,
   "id": "0146c441-859c-4625-bcd0-2ceb814cddb7",
   "metadata": {},
   "outputs": [],
   "source": [
    "result = get_performance(df)\n",
    "print(f\"Check 2: Actual columns: {list(result.columns)}, expected columns: {['timestamp', 'open', 'high', 'low', 'close', 'volume', 'ticker', 'performance']}\")"
   ]
  },
  {
   "cell_type": "markdown",
   "id": "9a9f6157-4b79-4ae0-b4e0-1aeb48cb6fef",
   "metadata": {},
   "source": [
    "Check [Dashboard](http://127.0.0.1:8505)"
   ]
  }
 ],
 "metadata": {
  "kernelspec": {
   "display_name": "Python 3 (ipykernel)",
   "language": "python",
   "name": "python3"
  },
  "language_info": {
   "codemirror_mode": {
    "name": "ipython",
    "version": 3
   },
   "file_extension": ".py",
   "mimetype": "text/x-python",
   "name": "python",
   "nbconvert_exporter": "python",
   "pygments_lexer": "ipython3",
   "version": "3.10.6"
  }
 },
 "nbformat": 4,
 "nbformat_minor": 5
}
